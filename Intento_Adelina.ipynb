{
  "cells": [
    {
      "cell_type": "code",
      "execution_count": 1,
      "metadata": {
        "id": "d04f9pguxRr4"
      },
      "outputs": [],
      "source": [
        "import time\n",
        "import random\n",
        "import numpy as np\n",
        "import pandas as pd\n",
        "\n"
      ]
    },
    {
      "cell_type": "markdown",
      "metadata": {
        "id": "H_7_wOHqZrwM"
      },
      "source": [
        "### Carga de ejemplares"
      ]
    },
    {
      "cell_type": "code",
      "execution_count": null,
      "metadata": {
        "colab": {
          "base_uri": "https://localhost:8080/"
        },
        "id": "thKTUFmzyYtg",
        "outputId": "7909e7a6-7340-402a-9c39-ba2e170ff05d"
      },
      "outputs": [
        {
          "name": "stdout",
          "output_type": "stream",
          "text": [
            "--2024-09-19 16:42:58--  https://raw.githubusercontent.com/FridaVargas/tsp/main/pr152.tsp\n",
            "Resolving raw.githubusercontent.com (raw.githubusercontent.com)... 185.199.108.133, 185.199.109.133, 185.199.110.133, ...\n",
            "Connecting to raw.githubusercontent.com (raw.githubusercontent.com)|185.199.108.133|:443... connected.\n",
            "HTTP request sent, awaiting response... 200 OK\n",
            "Length: 2206 (2.2K) [text/plain]\n",
            "Saving to: ‘pr152.tsp.1’\n",
            "\n",
            "\rpr152.tsp.1           0%[                    ]       0  --.-KB/s               \rpr152.tsp.1         100%[===================>]   2.15K  --.-KB/s    in 0s      \n",
            "\n",
            "2024-09-19 16:42:58 (35.2 MB/s) - ‘pr152.tsp.1’ saved [2206/2206]\n",
            "\n",
            "--2024-09-19 16:42:58--  https://raw.githubusercontent.com/FridaVargas/tsp/main/eil51.tsp\n",
            "Resolving raw.githubusercontent.com (raw.githubusercontent.com)... 185.199.110.133, 185.199.109.133, 185.199.108.133, ...\n",
            "Connecting to raw.githubusercontent.com (raw.githubusercontent.com)|185.199.110.133|:443... connected.\n",
            "HTTP request sent, awaiting response... 200 OK\n",
            "Length: 579 [text/plain]\n",
            "Saving to: ‘eil51.tsp.1’\n",
            "\n",
            "eil51.tsp.1         100%[===================>]     579  --.-KB/s    in 0s      \n",
            "\n",
            "2024-09-19 16:42:58 (18.1 MB/s) - ‘eil51.tsp.1’ saved [579/579]\n",
            "\n",
            "--2024-09-19 16:42:59--  https://raw.githubusercontent.com/FridaVargas/tsp/main/ch130.tsp\n",
            "Resolving raw.githubusercontent.com (raw.githubusercontent.com)... 185.199.108.133, 185.199.109.133, 185.199.110.133, ...\n",
            "Connecting to raw.githubusercontent.com (raw.githubusercontent.com)|185.199.108.133|:443... connected.\n",
            "HTTP request sent, awaiting response... 200 OK\n",
            "Length: 4386 (4.3K) [text/plain]\n",
            "Saving to: ‘ch130.tsp.1’\n",
            "\n",
            "ch130.tsp.1         100%[===================>]   4.28K  --.-KB/s    in 0s      \n",
            "\n",
            "2024-09-19 16:42:59 (56.2 MB/s) - ‘ch130.tsp.1’ saved [4386/4386]\n",
            "\n",
            "--2024-09-19 16:42:59--  https://raw.githubusercontent.com/FridaVargas/tsp/main/berlin52.tsp\n",
            "Resolving raw.githubusercontent.com (raw.githubusercontent.com)... 185.199.108.133, 185.199.109.133, 185.199.110.133, ...\n",
            "Connecting to raw.githubusercontent.com (raw.githubusercontent.com)|185.199.108.133|:443... connected.\n",
            "HTTP request sent, awaiting response... 200 OK\n",
            "Length: 916 [text/plain]\n",
            "Saving to: ‘berlin52.tsp.1’\n",
            "\n",
            "berlin52.tsp.1      100%[===================>]     916  --.-KB/s    in 0s      \n",
            "\n",
            "2024-09-19 16:42:59 (46.2 MB/s) - ‘berlin52.tsp.1’ saved [916/916]\n",
            "\n"
          ]
        }
      ],
      "source": [
        "# Los ejemplares se subieron a un repositorio de Github por lo que para descargarlos y poder usarlos se tiene que ejecutar la siguiente celda:\n",
        "!wget https://raw.githubusercontent.com/FridaVargas/tsp/main/pr152.tsp\n",
        "!wget https://raw.githubusercontent.com/FridaVargas/tsp/main/eil51.tsp\n",
        "!wget https://raw.githubusercontent.com/FridaVargas/tsp/main/ch130.tsp\n",
        "!wget https://raw.githubusercontent.com/FridaVargas/tsp/main/berlin52.tsp\n"
      ]
    },
    {
      "cell_type": "markdown",
      "metadata": {},
      "source": [
        "Si lo quieres correr desde VSCode en Windows: "
      ]
    },
    {
      "cell_type": "code",
      "execution_count": 2,
      "metadata": {},
      "outputs": [
        {
          "name": "stdout",
          "output_type": "stream",
          "text": [
            "Archivo pr152.tsp descargado.\n",
            "Archivo eil51.tsp descargado.\n",
            "Archivo ch130.tsp descargado.\n",
            "Archivo berlin52.tsp descargado.\n"
          ]
        }
      ],
      "source": [
        "import requests\n",
        "\n",
        "urls = [\n",
        "    \"https://raw.githubusercontent.com/FridaVargas/tsp/main/pr152.tsp\",\n",
        "    \"https://raw.githubusercontent.com/FridaVargas/tsp/main/eil51.tsp\",\n",
        "    \"https://raw.githubusercontent.com/FridaVargas/tsp/main/ch130.tsp\",\n",
        "    \"https://raw.githubusercontent.com/FridaVargas/tsp/main/berlin52.tsp\"\n",
        "]\n",
        "\n",
        "for url in urls:\n",
        "    filename = url.split(\"/\")[-1]\n",
        "    response = requests.get(url)\n",
        "    with open(filename, 'wb') as f:\n",
        "        f.write(response.content)\n",
        "    print(f\"Archivo {filename} descargado.\")\n"
      ]
    },
    {
      "cell_type": "markdown",
      "metadata": {
        "id": "ProrE_CxZjL5"
      },
      "source": [
        "### Implementa un algoritmo que lea un archivo de ejemplares para el TSP."
      ]
    },
    {
      "cell_type": "code",
      "execution_count": 3,
      "metadata": {
        "id": "MSrCD03JyvqA"
      },
      "outputs": [],
      "source": [
        "def lectura_TSP(ejemplar, imprimir = False):\n",
        "  \"\"\"\n",
        "  Función que recibe de parámetro un ejemplar de TSP con el formato especificado en TSPLIB y de parámetro opcional si quieres imprimir en pantalla el nombre\n",
        "  y la dimensión del ejemplar, por default no se imprime.\n",
        "  Devuelve un diccionario con sus atributos y una tabla\n",
        "  con los nodos(ciudades) y las coordenadas de dónde están. Además imprime en pantalla el nombre y la dimensión del ejemplar.\n",
        "  \"\"\"\n",
        "  archivo = open(ejemplar,\"r\")\n",
        "  contenido = archivo.readlines()\n",
        "  datos = {} # Aquí se van a guardar los atributos del ejemplar\n",
        "  linea = 0 # Nos dice cuántas líneas son de especificaciones\n",
        "  while ':' in contenido[linea]: # Se busca el caracter especial \":\" para separar la palara clave del valor\n",
        "    atributo = contenido[linea].replace('\\n', \"\")\n",
        "    llave, valor = atributo.split(':',1) # Se guarda en el diccionario\n",
        "    llave = llave.replace(\" \", \"\")\n",
        "    datos[llave] = valor\n",
        "    linea += 1\n",
        "  datos['lectura'] = linea\n",
        "  dimension = int(datos['DIMENSION'])\n",
        "  ciudades = contenido[linea+1:]\n",
        "  # Para ver la cantidad de coordenadas nos fijamos en el primer set de datos que es el nodo cor1, cor2..\n",
        "  n = len(ciudades[0].split(\" \")) # hay n-1 coordenadas\n",
        "  listas = [[] for i in range(n)]# Creamos una lista de listas para ir almacenando las coordenadas y nodos para despues pasarlo a un DataFrame\n",
        "  for i in range(0, dimension):\n",
        "    ciudad = ciudades[i].replace('\\n', \"\")\n",
        "    partes = ciudad.split(\" \")\n",
        "    for j in range(0, n):\n",
        "      listas[j].append(float(partes[j]))\n",
        "  columnas = [\"no. ciudad\"] + [\"coordenada\" + str(i) for i in range(1,n)]\n",
        "  # Creamos un dataframe\n",
        "  coordenadas= pd.DataFrame(np.transpose(listas), columns= columnas, index = [i for i in range(1, dimension+1)])\n",
        "  # Se imprimen en pantalla las caracteristicas del ejemplar si imprimir = True\n",
        "  if imprimir == True:\n",
        "    print(\"El nombre del ejemplar es: \", datos['NAME'], \"\\n\")\n",
        "    print(\"La dimensión del ejemplar es: \", datos['DIMENSION'], \"\\n\")\n",
        "    # Si se desean más especificaciones hay que descomentar las siguientes dos lineas paa que se impriman\n",
        "    #print(\"Otras especificaciones: \\n\")\n",
        "    #print(datos)\n",
        "  return datos, coordenadas\n",
        "\n",
        "\n"
      ]
    },
    {
      "cell_type": "markdown",
      "metadata": {
        "id": "sqHPaJCvd78S"
      },
      "source": [
        "Probamos en los 4 ejemplares la implementación:"
      ]
    },
    {
      "cell_type": "code",
      "execution_count": 4,
      "metadata": {
        "colab": {
          "base_uri": "https://localhost:8080/"
        },
        "id": "U0lxB3dfeC9Y",
        "outputId": "24788d22-02b9-4fa9-e0b2-4d0c674767c4"
      },
      "outputs": [
        {
          "name": "stdout",
          "output_type": "stream",
          "text": [
            "El nombre del ejemplar es:   berlin52 \n",
            "\n",
            "La dimensión del ejemplar es:   52 \n",
            "\n",
            "------------------------------\n",
            "\n",
            "El nombre del ejemplar es:   ch130 \n",
            "\n",
            "La dimensión del ejemplar es:   130 \n",
            "\n",
            "------------------------------\n",
            "\n",
            "El nombre del ejemplar es:   eil51 \n",
            "\n",
            "La dimensión del ejemplar es:   51 \n",
            "\n",
            "------------------------------\n",
            "\n",
            "El nombre del ejemplar es:   pr152 \n",
            "\n",
            "La dimensión del ejemplar es:   152 \n",
            "\n",
            "------------------------------\n",
            "\n"
          ]
        }
      ],
      "source": [
        "lectura_TSP(\"berlin52.tsp\", True)\n",
        "print(\"------------------------------\\n\")\n",
        "lectura_TSP(\"ch130.tsp\", True)\n",
        "print(\"------------------------------\\n\")\n",
        "lectura_TSP(\"eil51.tsp\", True)\n",
        "print(\"------------------------------\\n\")\n",
        "lectura_TSP(\"pr152.tsp\", True)\n",
        "print(\"------------------------------\\n\")\n"
      ]
    },
    {
      "cell_type": "markdown",
      "metadata": {
        "id": "Hf3DVjLLg0Lr"
      },
      "source": [
        "### Ahora realizamos la matriz de distancias\n",
        "Empleando el hecho que $d(i,j) = d(j,i)$ reducimos la complejidad computacional del problema. Pues $d(1,j) = d(j,1)$ y así nos queda una matriz de $(n-1) \\cdot (n-1)$ luego, $d(2,j) = d(i,2)$ y así sucesivamente. Concluyéndose así que sólo es necesario un ciclo _for_."
      ]
    },
    {
      "cell_type": "code",
      "execution_count": 5,
      "metadata": {
        "id": "v-cdEG58jV0n"
      },
      "outputs": [],
      "source": [
        "def matriz_distancias(ejemplar):\n",
        "  \"\"\"\n",
        "  Función que recibe de parámetro un ejemplar de TSP con el formato especificado en TSPLIB y devuelve su matriz de distancias asociada\n",
        "  \"\"\"\n",
        "  datos, coordenadas = lectura_TSP(ejemplar)\n",
        "  n = int(datos['DIMENSION'])\n",
        "  matriz = np.zeros((n,n))\n",
        "  # Calcula distancias entre cada par de nodos\n",
        "  for i in range(n):  # Itera sobre cada nodo\n",
        "      for j in range(i + 1, n):  # Solo itera sobre la mitad trangular superior derecha\n",
        "          distancia = np.sqrt((coordenadas['coordenada1'].iloc[i] - coordenadas['coordenada1'].iloc[j])**2 +\n",
        "                              (coordenadas['coordenada2'].iloc[i] - coordenadas['coordenada2'].iloc[j])**2)\n",
        "          matriz[i][j] = distancia  # Almacena la distancia en la matriz\n",
        "          matriz[j][i] = distancia  # La distancia es la misma de j a i\n",
        "\n",
        "  return matriz\n"
      ]
    },
    {
      "cell_type": "markdown",
      "metadata": {
        "id": "nwDVuIKEuKZE"
      },
      "source": [
        "### Implementa un algoritmo para generar soluciones aleatorias para el TSP, utilizando algún esquema de codificación basado en permutaciones"
      ]
    },
    {
      "cell_type": "code",
      "execution_count": 6,
      "metadata": {
        "id": "Sx8nU1eMuR4n"
      },
      "outputs": [],
      "source": [
        "# Usamos la funcion permutation de numpy, dejando fijo 1 y permutando de 2 a n\n",
        "# Convertimos a lista después para un problema en particular, por lo que la llamaremos dentro de la función\n",
        "\n",
        "def generar_sol_aleatoria(ejemplar, semilla =int(time.time())):\n",
        "  np.random.seed(semilla)\n",
        "  datos, coordenadas = lectura_TSP(ejemplar)\n",
        "  dimension = int(datos['DIMENSION'])\n",
        "  solucion = list([1] + list(np.random.permutation(list(range(2, dimension + 1)))))\n",
        "  return solucion # Como lista\n"
      ]
    },
    {
      "cell_type": "code",
      "execution_count": 8,
      "metadata": {
        "id": "P86o0ntrx25B"
      },
      "outputs": [],
      "source": [
        "# Ejemplo de uso\n",
        "# generar_sol_aleatoria('pr152.tsp')\n"
      ]
    },
    {
      "cell_type": "markdown",
      "metadata": {
        "id": "w9K56mCFvqux"
      },
      "source": [
        "### Implementa un algoritmo para evaluar una solución (permutación)"
      ]
    },
    {
      "cell_type": "code",
      "execution_count": 9,
      "metadata": {
        "id": "sWoECQ72v8r-"
      },
      "outputs": [],
      "source": [
        "def evaluar_sol(ejemplar, solucion):\n",
        "  matriz = matriz_distancias(ejemplar) # llamamos matriz de distancias\n",
        "  # inicializamos la distancia total\n",
        "  total = 0\n",
        "  for i in range(len(solucion)-1):\n",
        "    a = int(solucion[i])-1 #Hacemos que el index comience en cero\n",
        "    b = int(solucion[i+1])-1 # Primero los pasamos a enteros para que los reconozca adecuadamente en la matriz\n",
        "    total += int(matriz[a][b])\n",
        "  # Falta calcular la distancia del fin de la lista a 1\n",
        "  c = int(solucion[-1])-1\n",
        "  total += int(matriz[c][1])\n",
        "\n",
        "  return total\n"
      ]
    },
    {
      "cell_type": "code",
      "execution_count": 10,
      "metadata": {
        "colab": {
          "base_uri": "https://localhost:8080/"
        },
        "id": "9ehpvQ7j0TxM",
        "outputId": "4036bea7-767f-453a-8878-5b37fcc678a6"
      },
      "outputs": [
        {
          "name": "stdout",
          "output_type": "stream",
          "text": [
            "El costo de la solucion es 45846\n"
          ]
        }
      ],
      "source": [
        "# Lo probamos para un ejemplar cualquiera de los dados:\n",
        "solucion = generar_sol_aleatoria('ch130.tsp')\n",
        "costo = evaluar_sol('ch130.tsp', solucion)\n",
        "print(\"El costo de la solucion es\", costo)\n"
      ]
    },
    {
      "cell_type": "markdown",
      "metadata": {
        "id": "INdAPrma5zs3"
      },
      "source": [
        "### Programa 1\n",
        "Programa que reciba como parámetros (en la misma línea de ejecución):\n",
        "\n",
        " * Nombre del archivo con los datos del ejemplar\n",
        " * Semilla del generador de aleatorio\n",
        " * Nombre del archivo con los datos de la solución generada\n",
        "\n",
        "Como salida, deberá imprimir algunos datos generales del ejemplar leído. Por ejemplo:\n",
        "\n",
        "  * Nombre del ejemplar (archivo)\n",
        "  * Tamaño del ejemplar (número de ciudades)\n",
        "  * Arista de mayor peso (o distancia más grande)\n",
        "  * Ejemplo de solución (solo los primeras y los últimas 3 elementos de la permutación)\n",
        "  * En caso de que se haya indicado, se deberá escribir en un archivo de texto la solución generada (completa)\n"
      ]
    },
    {
      "cell_type": "code",
      "execution_count": 11,
      "metadata": {
        "id": "B9kAspmP6ewO"
      },
      "outputs": [],
      "source": [
        "def arista_mayor(ejemplar):\n",
        "  matriz = matriz_distancias(ejemplar)\n",
        "  n = len(matriz)\n",
        "  # Inicializamos variables para ahí guardar el no. de columna y no. de fila del maayor valor entre ciudades\n",
        "  i_mayor = -1\n",
        "  j_mayor = -1\n",
        "  valor_mayor = -1\n",
        "\n",
        "  for i in range(n):\n",
        "    for j in range(n):\n",
        "      if float(matriz[i][j]) > valor_mayor:\n",
        "        i_mayor = i\n",
        "        j_mayor = j\n",
        "        valor_mayor = float(matriz[i][j])\n",
        "  return i_mayor+1, j_mayor+1, valor_mayor # Sumamos 1 para que el index de las ciudades comience en 1 como en los originales\n",
        "\n",
        "\n",
        "def lectura_ejemplar(ejemplar, semilla=int(time.time()), nombre_archivo=str(time.time())):\n",
        "  datos, coordenadas = lectura_TSP(ejemplar, True) # True para imprimir nombre y dimension\n",
        "  i_mayor, j_mayor, valor_mayor = arista_mayor(ejemplar)\n",
        "  # Imprimir arista de mayor valor y entre cuales ciudades está\n",
        "  print(\"La arista de mayor peso se encuentra entre las ciudades \", i_mayor, \"y \", j_mayor, \"con un peso de \", valor_mayor,\"\\n\")\n",
        "  # Ejemplo de sol e imprimimos sus primeros y últimos 3 valores\n",
        "  solucion = generar_sol_aleatoria(ejemplar, semilla)\n",
        "  print(\"Una solución al ejemplar es:\", solucion[0], solucion[1], solucion[2], \",...,\", solucion[-3], solucion[-2], solucion[-1])\n",
        "\n",
        "  archivo = nombre_archivo + \".txt\"\n",
        "  # Guardamos los datos de nombre, dimension como lo especifica TSPLIB y la solucion en el archivo\n",
        "  contenido = (\n",
        "    f\"NAME : {datos['NAME']}\\n\"\n",
        "    f\"DIMENSION: {datos['DIMENSION']}\\n\"\n",
        "    f\"Una solución al ejemplar es \\n\"\n",
        "  )\n",
        "  contenido += ',\\n '.join(str(i) for i in solucion)\n",
        "\n",
        "  with open(nombre_archivo, 'w') as archivo:\n",
        "    archivo.write(contenido)\n",
        "\n",
        "  print('La solucion se guardó en el archivo ', f'{nombre_archivo}.txt')\n"
      ]
    },
    {
      "cell_type": "code",
      "execution_count": 12,
      "metadata": {
        "colab": {
          "base_uri": "https://localhost:8080/"
        },
        "id": "7QbAgwhhDnQf",
        "outputId": "808d6d2f-a30c-4076-bcae-2d6b958b2013"
      },
      "outputs": [
        {
          "name": "stdout",
          "output_type": "stream",
          "text": [
            "El nombre del ejemplar es:   eil51 \n",
            "\n",
            "La dimensión del ejemplar es:   51 \n",
            "\n",
            "La arista de mayor peso se encuentra entre las ciudades  36 y  40 con un peso de  85.63293758829018 \n",
            "\n",
            "Una solución al ejemplar es: 1 12 15 ,..., 30 4 47\n",
            "La solucion se guardó en el archivo  archivo_sol.txt\n"
          ]
        }
      ],
      "source": [
        "# Lo probamos con ejemplar cualquiera de los dados\n",
        "lectura_ejemplar('eil51.tsp', 123, 'archivo_sol')\n"
      ]
    },
    {
      "cell_type": "markdown",
      "metadata": {
        "id": "C8LGmCzLGOIi"
      },
      "source": [
        "## Programa 2\n",
        "Programa reciba como parámetros (en la misma línea de ejecución) :\n",
        "\n",
        "* Nombre del archivo con los datos del ejemplar\n",
        "* Nombre del archivo con los datos de la solución a evaluar\n",
        "\n",
        "Como salida, deberá imprimir algunos datos generales del ejemplar leído. Por ejemplo:\n",
        "\n",
        "* Nombre del ejemplar (archivo)\n",
        "* Tamaño del ejemplar (número de ciudades)\n",
        "* Costo de la solución\n"
      ]
    },
    {
      "cell_type": "code",
      "execution_count": 13,
      "metadata": {
        "id": "LZ__tMTAGdc4"
      },
      "outputs": [],
      "source": [
        "def leer_sol(archivo_sol, imprimir = False):\n",
        "  # Abrimos y leemos el archivo, guardando los datos como en la funcion leer_archivo\n",
        "  with open(archivo_sol, 'r') as f:\n",
        "    contenido = f.readlines()\n",
        "  datos = {} # Aquí se van a guardar los atributos del ejemplar\n",
        "  linea = 0 # Nos dice cuántas líneas son de especificaciones\n",
        "  solucion = []\n",
        "  while ':' in contenido[linea]: # Se busca el caracter especial \":\" para separar la palara clave del valor\n",
        "    atributo = contenido[linea].replace('\\n', \"\")\n",
        "    llave, valor = atributo.split(':',1) # Se guarda en el diccionario\n",
        "    llave = llave.replace(\" \", \"\")\n",
        "    datos[llave] = valor\n",
        "    linea += 1\n",
        "  datos['lectura'] = linea\n",
        "  dimension = int(datos['DIMENSION'])\n",
        "  ciudades = contenido[linea+1:]\n",
        "  # Nos deshacemos de salto de linea con strip( ) y de la coma con rstrip()\n",
        "  solucion = [int(ciudad.strip().rstrip(',')) for ciudad in ciudades]\n",
        "  if imprimir == True:\n",
        "    print(\"Ejemplar: \", datos['NAME'], \"\\n\")\n",
        "    print(\"Dimension: \", datos['DIMENSION'], \"\\n\")\n",
        "    print(\"Solucion en archivo: \", solucion[0], solucion[1], solucion[2], \",...,\", solucion[-3], solucion[-2], solucion[-1])\n",
        "  return solucion\n",
        "\n",
        "\n",
        "def lectura_solucion(ejemplar, archivo_sol):\n",
        "  datos, coordenadas = lectura_TSP(ejemplar, True) # True para imprimir nombre y dimension\n",
        "  solucion = leer_sol(archivo_sol)\n",
        "  costo = evaluar_sol('ch130.tsp', solucion)\n",
        "  print(\"El costo de la solucion es\", costo)\n",
        "\n",
        "\n"
      ]
    },
    {
      "cell_type": "code",
      "execution_count": 14,
      "metadata": {
        "colab": {
          "base_uri": "https://localhost:8080/"
        },
        "id": "7caJAKJ5Mufy",
        "outputId": "1bfaf162-593d-4336-bb98-b9630cfa1fe5"
      },
      "outputs": [
        {
          "name": "stdout",
          "output_type": "stream",
          "text": [
            "El nombre del ejemplar es:   ch130 \n",
            "\n",
            "La dimensión del ejemplar es:   130 \n",
            "\n",
            "El costo de la solucion es 15271\n"
          ]
        }
      ],
      "source": [
        "lectura_solucion('ch130.tsp', 'archivo_sol')\n"
      ]
    },
    {
      "cell_type": "markdown",
      "metadata": {},
      "source": [
        "# Ejercicio 2"
      ]
    },
    {
      "cell_type": "code",
      "execution_count": 24,
      "metadata": {},
      "outputs": [],
      "source": [
        "'''Primero implementamos el operador de cambio de dos elementos \n",
        "   consecutivos para permutaciones.'''\n",
        "\n",
        "def operadorCambioConsecutivo(permutacion, indice):\n",
        "    '''Debe recibir una permutación y sólo necesita de un índice porque\n",
        "       los elementos a intercambiar son consecutivos (queremos el índice\n",
        "       del primer elemento).'''\n",
        "    \n",
        "    '''Aquí es importante poner `nuevaPermutacion = permutacion[:]` en \n",
        "       vez de `nuevaPermutacion = permutacion`. Porque en la segunda ambos\n",
        "       nombres apuntan a la misma lista en la memoria y si hacemos la \n",
        "       primera, `nuevaPermutacion` es una nueva lista independiente de la\n",
        "       permutación original, así que podemos modificarla sin cambiar a la\n",
        "       permutación original.'''\n",
        "    nuevaPermutacion = permutacion[:]\n",
        "\n",
        "    # Si dimos un índice menor o igual al que corresponde al penúltimo\n",
        "    # elemento de la permutación...\n",
        "    if indice < len(permutacion) - 1:\n",
        "        nuevaPermutacion[indice], nuevaPermutacion[indice + 1] = nuevaPermutacion[indice + 1], nuevaPermutacion[indice]\n",
        "    # hacemos la permutación consecutiva (porque se puede)\n",
        "\n",
        "    return nuevaPermutacion # En caso de haber dado un índice no válido\n",
        "                            # (por ejemplo, el correspondiente al último\n",
        "                            # elemento de la lista), se retorna una copia\n",
        "                            # de la permutación original.\n"
      ]
    },
    {
      "cell_type": "code",
      "execution_count": 25,
      "metadata": {},
      "outputs": [],
      "source": [
        "'''Ahora implementamos el operador de intercambio de dos elementos\n",
        "   no consecutivos.'''\n",
        "\n",
        "def OperadorNoConsecutivo(permutacion, indice1, indice2):\n",
        "    '''Recibe una permutación y los dos índices que vamos a intercambiar'''\n",
        "\n",
        "    # Lo mismo que en el anterior, queremos una copia independiente.\n",
        "    nuevaPermutacion = permutacion[:]\n",
        "\n",
        "    # Para que se de el intercambio:\n",
        "        # Los índices deben ser distintos.\n",
        "        # Ambos tienen que corresponder a elementos que sí estén en la permutación.\n",
        "    if (indice1 != indice2) and (indice1 < len(permutacion)) and (indice2 < len(permutacion)):\n",
        "        nuevaPermutacion[indice1], nuevaPermutacion[indice2] = nuevaPermutacion[indice2], nuevaPermutacion[indice1]\n",
        "    \n",
        "    return nuevaPermutacion # En caso de haber dado algún índice no válido o\n",
        "                            # que ambos índices sean iguales, se retorna una copia \n",
        "                            # la permutación original.\n"
      ]
    },
    {
      "cell_type": "code",
      "execution_count": 46,
      "metadata": {},
      "outputs": [],
      "source": [
        "'''La siguiente es una implementación de un operador que parte a la\n",
        "   lista en dos y las intercambia. Es parecido al de interccambio de\n",
        "   dos elementos, sólo que ahora trabajamos con grupos completos.'''\n",
        "\n",
        "def OperadorInvParticion(permutacion, indice):\n",
        "    '''Recibe la permutación y el índice donde vamos a hacer el corte.'''\n",
        "\n",
        "    # Lo mismo que en los anteriores, queremos una copia independiente.\n",
        "    nuevaPermutacion = permutacion[:]\n",
        "    \n",
        "    # Si dimos un índice que corresponde a un elemento distinto al \n",
        "    # primero y el último (de otro modo, no tiene sentido hacer 'el\n",
        "    # corte').\n",
        "    if 0 < indice < len(permutacion)-1:\n",
        "        nuevaPermutacion = nuevaPermutacion[indice:] + nuevaPermutacion[:indice]\n",
        "\n",
        "    return nuevaPermutacion # En caso de haber dado algún índice no válido o\n",
        "                            # que éste corresponda al primer o último elemento\n",
        "                            # se retorna la permutación original.\n"
      ]
    },
    {
      "cell_type": "markdown",
      "metadata": {},
      "source": [
        "Veamos unos ejemplos de uso:"
      ]
    },
    {
      "cell_type": "code",
      "execution_count": 47,
      "metadata": {},
      "outputs": [
        {
          "name": "stdout",
          "output_type": "stream",
          "text": [
            "La permutación original es [1, 2, 3, 4, 5, 6, 7, 8, 9, 10]\n",
            "Algunas permutaciones obtenidas de hacer el intercambio de elementos consecutivos son:\n",
            "[1, 2, 3, 5, 4, 6, 7, 8, 9, 10], [1, 2, 3, 4, 5, 6, 7, 8, 10, 9] y [1, 2, 3, 4, 5, 6, 7, 8, 9, 10]\n",
            "\n",
            "Algunas permutaciones obtenidas de hacer el intercambio de dos elementos no necesariamente consecutivos son:\n",
            "[1, 2, 6, 4, 5, 3, 7, 8, 9, 10], [1, 2, 3, 4, 5, 10, 7, 8, 9, 6] y [1, 2, 3, 4, 5, 6, 7, 8, 9, 10]\n",
            "\n",
            "Algunas permutaciones obtenidas de usar el operador de inversión de partición son:\n",
            "[6, 7, 8, 9, 10, 1, 2, 3, 4, 5], [9, 10, 1, 2, 3, 4, 5, 6, 7, 8] y [1, 2, 3, 4, 5, 6, 7, 8, 9, 10]\n"
          ]
        }
      ],
      "source": [
        "permutacion = [1, 2, 3, 4, 5, 6, 7, 8, 9, 10]\n",
        "\n",
        "print(f\"La permutación original es {permutacion}\")\n",
        "#print(len(permutacion))\n",
        "\n",
        "# Intercambio de consecutivos:\n",
        "permConsecutiva1 = operadorCambioConsecutivo(permutacion, 3)\n",
        "permConsecutiva2 = operadorCambioConsecutivo(permutacion, 8)\n",
        "permConsecutiva3 = operadorCambioConsecutivo(permutacion, 11) \n",
        "# El último nos devolverá la permutación original\n",
        "\n",
        "print(f\"Algunas permutaciones obtenidas de hacer el intercambio de elementos consecutivos son:\\n\"\n",
        "      f\"{permConsecutiva1}, {permConsecutiva2} y {permConsecutiva3}\")\n",
        "\n",
        "# Intercambio de no-consecutivos:\n",
        "permNoConsecutiva1 = OperadorNoConsecutivo(permutacion, 2, 5)\n",
        "permNoConsecutiva2 = OperadorNoConsecutivo(permutacion, 5, 9)\n",
        "permNoConsecutiva3 = OperadorNoConsecutivo(permutacion, 1, 10)\n",
        "# El último nos devolverá la permutación original\n",
        "\n",
        "print(f\"\\nAlgunas permutaciones obtenidas de hacer el intercambio de dos elementos no necesariamente consecutivos son:\\n\"\n",
        "      f\"{permNoConsecutiva1}, {permNoConsecutiva2} y {permNoConsecutiva3}\")\n",
        "\n",
        "# Inversión de partición:\n",
        "permInv1 = OperadorInvParticion(permutacion, 5)\n",
        "permInv2 = OperadorInvParticion(permutacion, 8)\n",
        "permInv3 = OperadorInvParticion(permutacion, 9)\n",
        "# El último nos devolverá la permutación original\n",
        "\n",
        "print(f\"\\nAlgunas permutaciones obtenidas de usar el operador de inversión de partición son:\\n\"\n",
        "      f\"{permInv1}, {permInv2} y {permInv3}\")\n"
      ]
    },
    {
      "cell_type": "markdown",
      "metadata": {
        "id": "Gs6XUSdxUd8X"
      },
      "source": [
        "## Ejercicio 3"
      ]
    },
    {
      "cell_type": "code",
      "execution_count": 49,
      "metadata": {},
      "outputs": [],
      "source": [
        "def generar_vecindades_CambioConsecutivo(solucion_inicial, operadorCambioConsecutivo):\n",
        "    vecindades = []\n",
        "    n = len(solucion_inicial)\n",
        "    \n",
        "    # Esta es la vecindad completa:\n",
        "    VECINDAD = [operadorCambioConsecutivo(solucion_inicial, i) for i in range(n - 1)]\n",
        "    \n",
        "    # Vecindad pequeña: un subconjunto pequeño\n",
        "    vecindad1 = VECINDAD[:n // 10] # 10% de los intercambios\n",
        "    vecindades.append(vecindad1) \n",
        "\n",
        "    # Vecindad mediana: cambia más pares consecutivos\n",
        "    vecindad2 = VECINDAD[:n // 5]  # 20% de intercambios\n",
        "    vecindades.append(vecindad2)\n",
        "\n",
        "    # Vecindad grande: \n",
        "    vecindad3 = VECINDAD[:n // 3]  # 33% de intercambios\n",
        "    vecindades.append(vecindad3)  \n",
        "\n",
        "    return vecindades\n",
        "\n",
        "\n",
        "def generar_vecindades_NoConsecutivo(solucion_inicial, OperadorNoConsecutivo):\n",
        "    vecindades = []\n",
        "    n = len(solucion_inicial)\n",
        "\n",
        "    # Vecindad pequeña: pocos intercambios no consecutivos\n",
        "    vecindad1 = []\n",
        "    for _ in range(n // 10):  # 10% de intercambios\n",
        "        i, j = random.sample(range(n), 2)\n",
        "        vecindad1.append(OperadorNoConsecutivo(solucion_inicial, i, j))\n",
        "    vecindades.append(vecindad1)\n",
        "\n",
        "    # Vecindad mediana: más intercambios no consecutivos\n",
        "    vecindad2 = []\n",
        "    for _ in range(n // 5):  # 20% de intercambios\n",
        "        i, j = random.sample(range(n), 2)\n",
        "        vecindad2.append(OperadorNoConsecutivo(solucion_inicial, i, j))\n",
        "    vecindades.append(vecindad2)\n",
        "\n",
        "    # Vecindad grande: muchos intercambios no consecutivos\n",
        "    vecindad3 = []\n",
        "    for _ in range(n // 3):  # 33% de intercambios\n",
        "        i, j = random.sample(range(n), 2)\n",
        "        vecindad3.append(OperadorNoConsecutivo(solucion_inicial, i, j))\n",
        "    vecindades.append(vecindad3)\n",
        "\n",
        "    return vecindades\n",
        "\n",
        "\n",
        "def generar_vecindades_InvParticion(solucion_inicial, OperadorInvParticion):\n",
        "    vecindades = []\n",
        "    n = len(solucion_inicial)\n",
        "\n",
        "    # Vecindad pequeña: realiza cortes en pocos lugares\n",
        "    vecindad1 = [OperadorInvParticion(solucion_inicial, i) for i in range(1, n // 10)]\n",
        "    vecindades.append(vecindad1)\n",
        "\n",
        "    # Vecindad mediana: realiza más cortes\n",
        "    vecindad2 = [OperadorInvParticion(solucion_inicial, i) for i in range(1, n // 5)]\n",
        "    vecindades.append(vecindad2)\n",
        "\n",
        "    # Vecindad grande: realiza cortes en muchos más lugares\n",
        "    vecindad3 = [OperadorInvParticion(solucion_inicial, i) for i in range(1, n // 3)]\n",
        "    vecindades.append(vecindad3)\n",
        "\n",
        "    return vecindades\n"
      ]
    },
    {
      "cell_type": "code",
      "execution_count": 50,
      "metadata": {},
      "outputs": [
        {
          "name": "stdout",
          "output_type": "stream",
          "text": [
            "Vecindades usando el operador de cambio consecutivo:\n",
            "Vecindad 1: [[2, 1, 3, 4, 5, 6, 7, 8, 9, 10, 11, 12, 13, 14, 15, 16, 17, 18, 19, 20], [1, 3, 2, 4, 5, 6, 7, 8, 9, 10, 11, 12, 13, 14, 15, 16, 17, 18, 19, 20]]\n",
            "Vecindad 2: [[2, 1, 3, 4, 5, 6, 7, 8, 9, 10, 11, 12, 13, 14, 15, 16, 17, 18, 19, 20], [1, 3, 2, 4, 5, 6, 7, 8, 9, 10, 11, 12, 13, 14, 15, 16, 17, 18, 19, 20], [1, 2, 4, 3, 5, 6, 7, 8, 9, 10, 11, 12, 13, 14, 15, 16, 17, 18, 19, 20], [1, 2, 3, 5, 4, 6, 7, 8, 9, 10, 11, 12, 13, 14, 15, 16, 17, 18, 19, 20]]\n",
            "Vecindad 3: [[2, 1, 3, 4, 5, 6, 7, 8, 9, 10, 11, 12, 13, 14, 15, 16, 17, 18, 19, 20], [1, 3, 2, 4, 5, 6, 7, 8, 9, 10, 11, 12, 13, 14, 15, 16, 17, 18, 19, 20], [1, 2, 4, 3, 5, 6, 7, 8, 9, 10, 11, 12, 13, 14, 15, 16, 17, 18, 19, 20], [1, 2, 3, 5, 4, 6, 7, 8, 9, 10, 11, 12, 13, 14, 15, 16, 17, 18, 19, 20], [1, 2, 3, 4, 6, 5, 7, 8, 9, 10, 11, 12, 13, 14, 15, 16, 17, 18, 19, 20], [1, 2, 3, 4, 5, 7, 6, 8, 9, 10, 11, 12, 13, 14, 15, 16, 17, 18, 19, 20]]\n",
            "\n",
            "Vecindades usando el operador de intercambio no consecutivo:\n",
            "Vecindad 1: [[1, 2, 3, 4, 5, 6, 7, 8, 9, 10, 11, 12, 20, 14, 15, 16, 17, 18, 19, 13], [4, 2, 3, 1, 5, 6, 7, 8, 9, 10, 11, 12, 13, 14, 15, 16, 17, 18, 19, 20]]\n",
            "Vecindad 2: [[1, 2, 13, 4, 5, 6, 7, 8, 9, 10, 11, 12, 3, 14, 15, 16, 17, 18, 19, 20], [1, 2, 3, 4, 5, 6, 7, 8, 9, 16, 11, 12, 13, 14, 15, 10, 17, 18, 19, 20], [1, 2, 3, 4, 5, 6, 7, 8, 9, 10, 11, 17, 13, 14, 15, 16, 12, 18, 19, 20], [1, 2, 3, 4, 5, 6, 7, 8, 9, 10, 11, 12, 13, 15, 14, 16, 17, 18, 19, 20]]\n",
            "Vecindad 3: [[1, 2, 7, 4, 5, 6, 3, 8, 9, 10, 11, 12, 13, 14, 15, 16, 17, 18, 19, 20], [1, 2, 3, 4, 5, 6, 7, 8, 16, 10, 11, 12, 13, 14, 15, 9, 17, 18, 19, 20], [1, 2, 3, 4, 5, 6, 7, 8, 9, 20, 11, 12, 13, 14, 15, 16, 17, 18, 19, 10], [1, 2, 3, 4, 5, 6, 7, 8, 9, 12, 11, 10, 13, 14, 15, 16, 17, 18, 19, 20], [1, 2, 3, 4, 5, 6, 7, 8, 9, 10, 11, 12, 13, 14, 15, 16, 17, 18, 20, 19], [1, 2, 3, 4, 5, 6, 7, 8, 9, 10, 11, 12, 13, 16, 15, 14, 17, 18, 19, 20]]\n",
            "\n",
            "Vecindades usando el operador de inversión por partición:\n",
            "Vecindad 1: [[2, 3, 4, 5, 6, 7, 8, 9, 10, 11, 12, 13, 14, 15, 16, 17, 18, 19, 20, 1]]\n",
            "Vecindad 2: [[2, 3, 4, 5, 6, 7, 8, 9, 10, 11, 12, 13, 14, 15, 16, 17, 18, 19, 20, 1], [3, 4, 5, 6, 7, 8, 9, 10, 11, 12, 13, 14, 15, 16, 17, 18, 19, 20, 1, 2], [4, 5, 6, 7, 8, 9, 10, 11, 12, 13, 14, 15, 16, 17, 18, 19, 20, 1, 2, 3]]\n",
            "Vecindad 3: [[2, 3, 4, 5, 6, 7, 8, 9, 10, 11, 12, 13, 14, 15, 16, 17, 18, 19, 20, 1], [3, 4, 5, 6, 7, 8, 9, 10, 11, 12, 13, 14, 15, 16, 17, 18, 19, 20, 1, 2], [4, 5, 6, 7, 8, 9, 10, 11, 12, 13, 14, 15, 16, 17, 18, 19, 20, 1, 2, 3], [5, 6, 7, 8, 9, 10, 11, 12, 13, 14, 15, 16, 17, 18, 19, 20, 1, 2, 3, 4], [6, 7, 8, 9, 10, 11, 12, 13, 14, 15, 16, 17, 18, 19, 20, 1, 2, 3, 4, 5]]\n"
          ]
        }
      ],
      "source": [
        "'''Veamos un ejemplo de uso de nuestras funciones:'''\n",
        "\n",
        "# Permutación inicial\n",
        "solucionInicial = [1, 2, 3, 4, 5, 6, 7, 8, 9, 10, 11, 12, 13, 14, 15, 16, 17, 18, 19, 20]\n",
        "\n",
        "# Generar vecindades usando el operador de cambio consecutivo\n",
        "vecindadesCambioConsecutivo = generar_vecindades_CambioConsecutivo(solucionInicial, operadorCambioConsecutivo)\n",
        "\n",
        "# Generar vecindades usando el operador de intercambio no consecutivo\n",
        "vecindadesNoConsecutivo = generar_vecindades_NoConsecutivo(solucionInicial, OperadorNoConsecutivo)\n",
        "\n",
        "# Generar vecindades usando el operador de inversión por partición\n",
        "vecindadesInvParticion = generar_vecindades_InvParticion(solucionInicial, OperadorInvParticion)\n",
        "\n",
        "# Mostrar resultados\n",
        "print(\"Vecindades usando el operador de cambio consecutivo:\")\n",
        "for ind, vecindad in enumerate(vecindadesCambioConsecutivo):\n",
        "    print(f\"Vecindad {ind+1}: {vecindad}\")\n",
        "\n",
        "print(\"\\nVecindades usando el operador de intercambio no consecutivo:\")\n",
        "for ind, vecindad in enumerate(vecindadesNoConsecutivo):\n",
        "    print(f\"Vecindad {ind+1}: {vecindad}\")\n",
        "\n",
        "print(\"\\nVecindades usando el operador de inversión por partición:\")\n",
        "for ind, vecindad in enumerate(vecindadesInvParticion):\n",
        "    print(f\"Vecindad {ind+1}: {vecindad}\")\n"
      ]
    },
    {
      "cell_type": "code",
      "execution_count": 23,
      "metadata": {
        "colab": {
          "base_uri": "https://localhost:8080/"
        },
        "id": "nwsc2qvUzr6v",
        "outputId": "c515d8b9-7389-4e1d-cd3b-228bba476c58"
      },
      "outputs": [
        {
          "ename": "IndexError",
          "evalue": "list index out of range",
          "output_type": "error",
          "traceback": [
            "\u001b[1;31m---------------------------------------------------------------------------\u001b[0m",
            "\u001b[1;31mIndexError\u001b[0m                                Traceback (most recent call last)",
            "Cell \u001b[1;32mIn[23], line 81\u001b[0m\n\u001b[0;32m     78\u001b[0m max_tiempo \u001b[38;5;241m=\u001b[39m \u001b[38;5;241m60\u001b[39m  \u001b[38;5;66;03m#segundos\u001b[39;00m\n\u001b[0;32m     80\u001b[0m \u001b[38;5;66;03m# Ejecutar VND modificado\u001b[39;00m\n\u001b[1;32m---> 81\u001b[0m mejor_solucion \u001b[38;5;241m=\u001b[39m \u001b[43mvnd_modificado\u001b[49m\u001b[43m(\u001b[49m\u001b[43msolucion_inicial\u001b[49m\u001b[43m,\u001b[49m\u001b[43m \u001b[49m\u001b[43mmax_vecindades\u001b[49m\u001b[43m,\u001b[49m\u001b[43m \u001b[49m\u001b[43mmax_iter_sin_mejora\u001b[49m\u001b[43m,\u001b[49m\u001b[43m \u001b[49m\u001b[43mmax_tiempo\u001b[49m\u001b[43m,\u001b[49m\u001b[43m \u001b[49m\u001b[43mvecindades\u001b[49m\u001b[43m)\u001b[49m\n\u001b[0;32m     82\u001b[0m \u001b[38;5;28mprint\u001b[39m(\u001b[38;5;124m\"\u001b[39m\u001b[38;5;124mMejor solución encontrada:\u001b[39m\u001b[38;5;124m\"\u001b[39m, mejor_solucion)\n\u001b[0;32m     83\u001b[0m costo \u001b[38;5;241m=\u001b[39m evaluar_sol(ejemplar, mejor_solucion)\n",
            "Cell \u001b[1;32mIn[23], line 44\u001b[0m, in \u001b[0;36mvnd_modificado\u001b[1;34m(s_ini, max_vecindades, max_iter_sin_mejora, max_tiempo, vecindades)\u001b[0m\n\u001b[0;32m     39\u001b[0m \u001b[38;5;28;01mwhile\u001b[39;00m (iteraciones_sin_mejora \u001b[38;5;241m<\u001b[39m max_iter_sin_mejora \u001b[38;5;129;01mand\u001b[39;00m\n\u001b[0;32m     40\u001b[0m        time\u001b[38;5;241m.\u001b[39mtime() \u001b[38;5;241m-\u001b[39m tiempo_inicio \u001b[38;5;241m<\u001b[39m max_tiempo \u001b[38;5;129;01mand\u001b[39;00m\n\u001b[0;32m     41\u001b[0m        iteracion_total \u001b[38;5;241m<\u001b[39m max_iteracion_total):\n\u001b[0;32m     43\u001b[0m     \u001b[38;5;28;01mwhile\u001b[39;00m l \u001b[38;5;241m<\u001b[39m\u001b[38;5;241m=\u001b[39m max_vecindades:\n\u001b[1;32m---> 44\u001b[0m         vecindad \u001b[38;5;241m=\u001b[39m \u001b[43mvecindades\u001b[49m\u001b[43m[\u001b[49m\u001b[43ml\u001b[49m\u001b[38;5;241;43m-\u001b[39;49m\u001b[38;5;241;43m1\u001b[39;49m\u001b[43m]\u001b[49m\n\u001b[0;32m     45\u001b[0m         s_prime \u001b[38;5;241m=\u001b[39m encontrar_mejor_vecino(s, vecindad)\n\u001b[0;32m     46\u001b[0m         \u001b[38;5;28;01mif\u001b[39;00m evaluar(s_prime) \u001b[38;5;241m<\u001b[39m evaluar(s):\n",
            "\u001b[1;31mIndexError\u001b[0m: list index out of range"
          ]
        }
      ],
      "source": [
        "def encontrar_mejor_vecino_cambio_consecutivo(s, vecindad):\n",
        "    mejor_vecino = s[:]\n",
        "    mejor_evaluacion = evaluar(s)\n",
        "\n",
        "    for indice in range(len(s) - 1): # Podemos elegir desde el primer índice, hasta el penúltimo\n",
        "        vecino = vecindad(s, indice)  # Aplica el operador de cambio consecutivo\n",
        "        evaluacion_vecino = evaluar(vecino)\n",
        "        if evaluacion_vecino < mejor_evaluacion:\n",
        "            mejor_vecino = vecino\n",
        "            mejor_evaluacion = evaluacion_vecino\n",
        "    return mejor_vecino\n",
        "\n",
        "def evaluar(s):\n",
        "    costo_total = evaluar_sol(\"berlin52.tsp\", s)\n",
        "    return costo_total\n",
        "\n",
        "def perturbacion_estocastica(s):\n",
        "    i, j = random.sample(range(len(s)), 2)\n",
        "    s[i], s[j] = s[j], s[i]\n",
        "    return s\n",
        "\n",
        "def operadorCambioConsecutivo(permutacion, indice):\n",
        "    nuevaPermutacion = permutacion[:]\n",
        "    if indice < len(permutacion) - 1:\n",
        "        nuevaPermutacion[indice], nuevaPermutacion[indice + 1] = nuevaPermutacion[indice + 1], nuevaPermutacion[indice]\n",
        "    return nuevaPermutacion\n",
        "\n",
        "def vnd_modificado(s_ini, max_vecindades, max_iter_sin_mejora, max_tiempo, vecindades):\n",
        "    s = s_ini\n",
        "    l = 1\n",
        "    iteraciones_sin_mejora = 0\n",
        "    tiempo_inicio = time.time()\n",
        "    mejor_solucion_global = s\n",
        "    perturbaciones_aplicadas = 0\n",
        "    max_perturbaciones = 5\n",
        "    iteracion_total = 0\n",
        "    max_iteracion_total = 1000\n",
        "\n",
        "    while (iteraciones_sin_mejora < max_iter_sin_mejora and\n",
        "           time.time() - tiempo_inicio < max_tiempo and\n",
        "           iteracion_total < max_iteracion_total):\n",
        "\n",
        "        while l <= max_vecindades:\n",
        "            vecindad = vecindades[l-1]\n",
        "            s_prime = encontrar_mejor_vecino(s, vecindad)\n",
        "            if evaluar(s_prime) < evaluar(s):\n",
        "                s = s_prime\n",
        "                l = 1\n",
        "                iteraciones_sin_mejora = 0\n",
        "            else:\n",
        "                l += 1\n",
        "\n",
        "        s = perturbacion_estocastica(s)\n",
        "        perturbaciones_aplicadas += 1\n",
        "        iteraciones_sin_mejora += 1\n",
        "\n",
        "        if evaluar(s) < evaluar(mejor_solucion_global):\n",
        "            mejor_solucion_global = s\n",
        "\n",
        "\n",
        "        if perturbaciones_aplicadas >= max_perturbaciones:\n",
        "            break\n",
        "\n",
        "        iteracion_total += 1\n",
        "\n",
        "    return mejor_solucion_global\n",
        "\n",
        "#Definir vecindades\n",
        "vecindades = [operadorCambioConsecutivo]\n",
        "\n",
        "# Generar solución inicial aleatoria del ejercicio 1\n",
        "ejemplar = \"berlin52.tsp\"\n",
        "solucion_inicial = generar_sol_aleatoria(ejemplar)\n",
        "\n",
        "# Parámetros de VND modificado\n",
        "max_vecindades = 3\n",
        "max_iter_sin_mejora = 51\n",
        "max_tiempo = 60  #segundos\n",
        "\n",
        "# Ejecutar VND modificado\n",
        "mejor_solucion = vnd_modificado(solucion_inicial, max_vecindades, max_iter_sin_mejora, max_tiempo, vecindades)\n",
        "print(\"Mejor solución encontrada:\", mejor_solucion)\n",
        "costo = evaluar_sol(ejemplar, mejor_solucion)\n",
        "print(\"Cuyo costo es : \", costo)\n"
      ]
    },
    {
      "cell_type": "code",
      "execution_count": 18,
      "metadata": {
        "colab": {
          "base_uri": "https://localhost:8080/"
        },
        "id": "oQ-eZIaJ3_-2",
        "outputId": "f7567ef5-0056-4e24-99e3-e3932cae3da7"
      },
      "outputs": [
        {
          "name": "stdout",
          "output_type": "stream",
          "text": [
            "Mejor solución encontrada: [np.int64(38), np.int64(11), np.int64(28), np.int64(35), np.int64(8), np.int64(19), np.int64(47), np.int64(30), np.int64(29), np.int64(43), np.int64(15), np.int64(4), np.int64(24), np.int64(34), np.int64(37), np.int64(25), np.int64(45), np.int64(21), np.int64(5), np.int64(31), np.int64(48), np.int64(49), np.int64(22), np.int64(27), np.int64(39), np.int64(52), np.int64(10), np.int64(18), 1, np.int64(13), np.int64(40), np.int64(3), np.int64(9), np.int64(33), np.int64(50), np.int64(42), np.int64(17), np.int64(12), np.int64(6), np.int64(26), np.int64(7), np.int64(36), np.int64(46), np.int64(44), np.int64(41), np.int64(23), np.int64(32), np.int64(20), np.int64(14), np.int64(16), np.int64(51), np.int64(2)]\n",
            "Cuyo costo es :  28602\n"
          ]
        }
      ],
      "source": [
        "\n",
        "\n",
        "def encontrar_mejor_vecino(s, vecindad):\n",
        "    mejor_vecino = s[:]\n",
        "    mejor_evaluacion = evaluar(s)\n",
        "\n",
        "    for indice in range(1, len(s) - 1):\n",
        "        vecino = vecindad(s, indice)\n",
        "        evaluacion_vecino = evaluar(vecino)\n",
        "        if evaluacion_vecino < mejor_evaluacion:\n",
        "            mejor_vecino = vecino\n",
        "            mejor_evaluacion = evaluacion_vecino\n",
        "    return mejor_vecino\n",
        "\n",
        "def evaluar(s):\n",
        "    costo_total = evaluar_sol(\"berlin52.tsp\", s)\n",
        "    return costo_total\n",
        "\n",
        "def perturbacion_estocastica(s):\n",
        "    i, j = random.sample(range(len(s)), 2)\n",
        "    s[i], s[j] = s[j], s[i]\n",
        "    return s\n",
        "\n",
        "# Operador que intercambia la partición de la permutación\n",
        "def OperadorInvParticion(permutacion, indice):\n",
        "    '''Recibe la permutación y el índice donde vamos a hacer el corte.'''\n",
        "    nuevaPermutacion = permutacion[:]\n",
        "    if 0 < indice < len(permutacion) - 1:\n",
        "        nuevaPermutacion = nuevaPermutacion[indice:] + nuevaPermutacion[:indice]\n",
        "    return nuevaPermutacion\n",
        "\n",
        "def vnd_modificado(s_ini, max_vecindades, max_iter_sin_mejora, max_tiempo, vecindades):\n",
        "    s = s_ini\n",
        "    l = 1\n",
        "    iteraciones_sin_mejora = 0\n",
        "    tiempo_inicio = time.time()\n",
        "    mejor_solucion_global = s\n",
        "    perturbaciones_aplicadas = 0\n",
        "    max_perturbaciones = 5\n",
        "    iteracion_total = 0\n",
        "    max_iteracion_total = 1000\n",
        "\n",
        "    while (iteraciones_sin_mejora < max_iter_sin_mejora and\n",
        "           time.time() - tiempo_inicio < max_tiempo and\n",
        "           iteracion_total < max_iteracion_total):\n",
        "\n",
        "        while l <= max_vecindades:\n",
        "            vecindad = vecindades[l-1]\n",
        "            s_prime = encontrar_mejor_vecino(s, vecindad)\n",
        "\n",
        "            if evaluar(s_prime) < evaluar(s):\n",
        "                s = s_prime\n",
        "                l = 1\n",
        "                iteraciones_sin_mejora = 0\n",
        "            else:\n",
        "                l += 1\n",
        "\n",
        "        s = perturbacion_estocastica(s)\n",
        "        perturbaciones_aplicadas += 1\n",
        "        iteraciones_sin_mejora += 1\n",
        "\n",
        "        if evaluar(s) < evaluar(mejor_solucion_global):\n",
        "            mejor_solucion_global = s\n",
        "\n",
        "        if perturbaciones_aplicadas >= max_perturbaciones:\n",
        "            break\n",
        "\n",
        "        iteracion_total += 1\n",
        "\n",
        "    return mejor_solucion_global\n",
        "\n",
        "# Definir vecindades (en este caso, solo se usa el operador de partición)\n",
        "vecindades = [OperadorInvParticion]\n",
        "\n",
        "# Generar solución inicial\n",
        "ejemplar = \"berlin52.tsp\"\n",
        "solucion_inicial = generar_sol_aleatoria(ejemplar)\n",
        "\n",
        "# Parámetros de VND modificado\n",
        "max_vecindades = 1\n",
        "max_iter_sin_mejora = 10\n",
        "max_tiempo = 60  # segundos\n",
        "\n",
        "# Ejecutar VND modificado\n",
        "mejor_solucion = vnd_modificado(solucion_inicial, max_vecindades, max_iter_sin_mejora, max_tiempo, vecindades)\n",
        "print(\"Mejor solución encontrada:\", mejor_solucion)\n",
        "costo = evaluar_sol(ejemplar, mejor_solucion)\n",
        "print(\"Cuyo costo es : \", costo)\n"
      ]
    },
    {
      "cell_type": "code",
      "execution_count": null,
      "metadata": {
        "colab": {
          "background_save": true
        },
        "id": "6rTOTVmp5Rb3",
        "outputId": "2903343a-d135-4150-cac1-06efeb9e80f8"
      },
      "outputs": [
        {
          "name": "stdout",
          "output_type": "stream",
          "text": [
            "Mejor solución encontrada: [17, 3, 19, 45, 32, 18, 31, 22, 1, 49, 36, 20, 6, 25, 28, 27, 26, 29, 30, 7, 42, 21, 23, 39, 40, 38, 48, 24, 5, 15, 41, 8, 9, 10, 33, 43, 4, 46, 16, 50, 37, 35, 34, 44, 47, 14, 13, 52, 11, 51, 12, 2]\n"
          ]
        }
      ],
      "source": [
        "def encontrar_mejor_vecino(s, vecindad):\n",
        "    mejor_vecino = s[:]\n",
        "    mejor_evaluacion = evaluar(s)\n",
        "    for indice1 in range(len(s) - 1):\n",
        "        for indice2 in range(indice1 + 1, len(s)):\n",
        "            vecino = vecindad(s, indice1, indice2)  # Aplica el operador de vecindad no consecutiva\n",
        "            evaluacion_vecino = evaluar(vecino)\n",
        "            if evaluacion_vecino < mejor_evaluacion:\n",
        "                mejor_vecino = vecino\n",
        "                mejor_evaluacion = evaluacion_vecino\n",
        "    return mejor_vecino\n",
        "\n",
        "def evaluar(s):\n",
        "    costo_total = evaluar_sol(\"berlin52.tsp\", s)\n",
        "    return costo_total\n",
        "\n",
        "def perturbacion_estocastica(s):\n",
        "    i, j = random.sample(range(len(s)), 2)\n",
        "    s[i], s[j] = s[j], s[i]\n",
        "    return s\n",
        "\n",
        "def OperadorNoConsecutivo(permutacion, indice1, indice2):\n",
        "    '''Recibe una permutación y los dos índices que vamos a intercambiar'''\n",
        "    nuevaPermutacion = permutacion[:]\n",
        "    if (indice1 != indice2) and (indice1 < len(permutacion)) and (indice2 < len(permutacion)):\n",
        "        nuevaPermutacion[indice1], nuevaPermutacion[indice2] = nuevaPermutacion[indice2], nuevaPermutacion[indice1]\n",
        "\n",
        "    return nuevaPermutacion\n",
        "\n",
        "def vnd_modificado(s_ini, max_vecindades, max_iter_sin_mejora, max_tiempo, vecindades):\n",
        "    s = s_ini\n",
        "    l = 1\n",
        "    iteraciones_sin_mejora = 0\n",
        "    tiempo_inicio = time.time()\n",
        "    mejor_solucion_global = s  # Inicializa mejor solución global\n",
        "    perturbaciones_aplicadas = 0\n",
        "    max_perturbaciones = 1\n",
        "    iteracion_total = 0\n",
        "    max_iteracion_total = 2\n",
        "\n",
        "    while (iteraciones_sin_mejora < max_iter_sin_mejora and\n",
        "           time.time() - tiempo_inicio < max_tiempo and\n",
        "           iteracion_total < max_iteracion_total):\n",
        "\n",
        "        while l <= max_vecindades:\n",
        "            vecindad = vecindades[l-1]  # Accede a la vecindad actual\n",
        "            s_prime = encontrar_mejor_vecino(s, vecindad)  # Encuentra el mejor vecino\n",
        "\n",
        "            if evaluar(s_prime) < evaluar(s):  # Si se mejora la solución\n",
        "                s = s_prime\n",
        "                l = 1\n",
        "                iteraciones_sin_mejora = 0\n",
        "            else:\n",
        "                l += 1\n",
        "\n",
        "        # Si no se encuentran mejoras, aplicar perturbación estocástica\n",
        "        s = perturbacion_estocastica(s)\n",
        "        perturbaciones_aplicadas += 1\n",
        "        iteraciones_sin_mejora += 1\n",
        "\n",
        "        if evaluar(s) < evaluar(mejor_solucion_global):\n",
        "            mejor_solucion_global = s\n",
        "\n",
        "        # Verificar si se ha alcanzado el límite de perturbaciones\n",
        "        if perturbaciones_aplicadas >= max_perturbaciones:\n",
        "            break\n",
        "        iteracion_total += 1\n",
        "    return mejor_solucion_global\n",
        "\n",
        "# Definir vecindades (en este caso, solo se usa el operador de intercambio no consecutivo)\n",
        "vecindades = [OperadorNoConsecutivo]\n",
        "\n",
        "# Generar solución inicial usando el código que ya tienes\n",
        "ejemplar = \"berlin52.tsp\"\n",
        "solucion_inicial = generar_sol_aleatoria(ejemplar)\n",
        "\n",
        "# Parámetros de VND modificado\n",
        "max_vecindades = 1\n",
        "max_iter_sin_mejora = 1\n",
        "max_tiempo = 2  #segundos\n",
        "\n",
        "# Ejecutar VND modificado\n",
        "mejor_solucion = vnd_modificado(solucion_inicial, max_vecindades, max_iter_sin_mejora, max_tiempo, vecindades)\n",
        "print(\"Mejor solución encontrada:\", mejor_solucion)\n"
      ]
    }
  ],
  "metadata": {
    "colab": {
      "provenance": []
    },
    "kernelspec": {
      "display_name": "Python 3",
      "name": "python3"
    },
    "language_info": {
      "codemirror_mode": {
        "name": "ipython",
        "version": 3
      },
      "file_extension": ".py",
      "mimetype": "text/x-python",
      "name": "python",
      "nbconvert_exporter": "python",
      "pygments_lexer": "ipython3",
      "version": "3.12.5"
    }
  },
  "nbformat": 4,
  "nbformat_minor": 0
}

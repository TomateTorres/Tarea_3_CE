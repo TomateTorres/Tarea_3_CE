{
  "cells": [
    {
      "cell_type": "code",
      "execution_count": 41,
      "metadata": {
        "id": "d04f9pguxRr4"
      },
      "outputs": [],
      "source": [
        "import time\n",
        "import random\n",
        "import numpy as np\n",
        "import pandas as pd\n",
        "\n"
      ]
    },
    {
      "cell_type": "markdown",
      "metadata": {
        "id": "H_7_wOHqZrwM"
      },
      "source": [
        "### Carga de ejemplares"
      ]
    },
    {
      "cell_type": "code",
      "execution_count": null,
      "metadata": {
        "colab": {
          "base_uri": "https://localhost:8080/"
        },
        "id": "thKTUFmzyYtg",
        "outputId": "7909e7a6-7340-402a-9c39-ba2e170ff05d"
      },
      "outputs": [
        {
          "name": "stdout",
          "output_type": "stream",
          "text": [
            "--2024-09-19 16:42:58--  https://raw.githubusercontent.com/FridaVargas/tsp/main/pr152.tsp\n",
            "Resolving raw.githubusercontent.com (raw.githubusercontent.com)... 185.199.108.133, 185.199.109.133, 185.199.110.133, ...\n",
            "Connecting to raw.githubusercontent.com (raw.githubusercontent.com)|185.199.108.133|:443... connected.\n",
            "HTTP request sent, awaiting response... 200 OK\n",
            "Length: 2206 (2.2K) [text/plain]\n",
            "Saving to: ‘pr152.tsp.1’\n",
            "\n",
            "\rpr152.tsp.1           0%[                    ]       0  --.-KB/s               \rpr152.tsp.1         100%[===================>]   2.15K  --.-KB/s    in 0s      \n",
            "\n",
            "2024-09-19 16:42:58 (35.2 MB/s) - ‘pr152.tsp.1’ saved [2206/2206]\n",
            "\n",
            "--2024-09-19 16:42:58--  https://raw.githubusercontent.com/FridaVargas/tsp/main/eil51.tsp\n",
            "Resolving raw.githubusercontent.com (raw.githubusercontent.com)... 185.199.110.133, 185.199.109.133, 185.199.108.133, ...\n",
            "Connecting to raw.githubusercontent.com (raw.githubusercontent.com)|185.199.110.133|:443... connected.\n",
            "HTTP request sent, awaiting response... 200 OK\n",
            "Length: 579 [text/plain]\n",
            "Saving to: ‘eil51.tsp.1’\n",
            "\n",
            "eil51.tsp.1         100%[===================>]     579  --.-KB/s    in 0s      \n",
            "\n",
            "2024-09-19 16:42:58 (18.1 MB/s) - ‘eil51.tsp.1’ saved [579/579]\n",
            "\n",
            "--2024-09-19 16:42:59--  https://raw.githubusercontent.com/FridaVargas/tsp/main/ch130.tsp\n",
            "Resolving raw.githubusercontent.com (raw.githubusercontent.com)... 185.199.108.133, 185.199.109.133, 185.199.110.133, ...\n",
            "Connecting to raw.githubusercontent.com (raw.githubusercontent.com)|185.199.108.133|:443... connected.\n",
            "HTTP request sent, awaiting response... 200 OK\n",
            "Length: 4386 (4.3K) [text/plain]\n",
            "Saving to: ‘ch130.tsp.1’\n",
            "\n",
            "ch130.tsp.1         100%[===================>]   4.28K  --.-KB/s    in 0s      \n",
            "\n",
            "2024-09-19 16:42:59 (56.2 MB/s) - ‘ch130.tsp.1’ saved [4386/4386]\n",
            "\n",
            "--2024-09-19 16:42:59--  https://raw.githubusercontent.com/FridaVargas/tsp/main/berlin52.tsp\n",
            "Resolving raw.githubusercontent.com (raw.githubusercontent.com)... 185.199.108.133, 185.199.109.133, 185.199.110.133, ...\n",
            "Connecting to raw.githubusercontent.com (raw.githubusercontent.com)|185.199.108.133|:443... connected.\n",
            "HTTP request sent, awaiting response... 200 OK\n",
            "Length: 916 [text/plain]\n",
            "Saving to: ‘berlin52.tsp.1’\n",
            "\n",
            "berlin52.tsp.1      100%[===================>]     916  --.-KB/s    in 0s      \n",
            "\n",
            "2024-09-19 16:42:59 (46.2 MB/s) - ‘berlin52.tsp.1’ saved [916/916]\n",
            "\n"
          ]
        }
      ],
      "source": [
        "# Los ejemplares se subieron a un repositorio de Github por lo que para descargarlos y poder usarlos se tiene que ejecutar la siguiente celda:\n",
        "!wget https://raw.githubusercontent.com/FridaVargas/tsp/main/pr152.tsp\n",
        "!wget https://raw.githubusercontent.com/FridaVargas/tsp/main/eil51.tsp\n",
        "!wget https://raw.githubusercontent.com/FridaVargas/tsp/main/ch130.tsp\n",
        "!wget https://raw.githubusercontent.com/FridaVargas/tsp/main/berlin52.tsp\n",
        "!wget https://raw.githubusercontent.com/mastqe/tsplib/refs/heads/master/pr76.tsp\n"
      ]
    },
    {
      "cell_type": "markdown",
      "metadata": {},
      "source": [
        "Si lo quieres correr desde VSCode en Windows: "
      ]
    },
    {
      "cell_type": "code",
      "execution_count": 42,
      "metadata": {},
      "outputs": [
        {
          "name": "stdout",
          "output_type": "stream",
          "text": [
            "Archivo pr152.tsp descargado.\n",
            "Archivo eil51.tsp descargado.\n",
            "Archivo ch130.tsp descargado.\n",
            "Archivo berlin52.tsp descargado.\n",
            "Archivo pr76.tsp descargado.\n"
          ]
        }
      ],
      "source": [
        "import requests\n",
        "\n",
        "urls = [\n",
        "    \"https://raw.githubusercontent.com/FridaVargas/tsp/main/pr152.tsp\",\n",
        "    \"https://raw.githubusercontent.com/FridaVargas/tsp/main/eil51.tsp\",\n",
        "    \"https://raw.githubusercontent.com/FridaVargas/tsp/main/ch130.tsp\",\n",
        "    \"https://raw.githubusercontent.com/FridaVargas/tsp/main/berlin52.tsp\",\n",
        "    \"https://raw.githubusercontent.com/mastqe/tsplib/refs/heads/master/pr76.tsp\"\n",
        "]\n",
        "\n",
        "for url in urls:\n",
        "    filename = url.split(\"/\")[-1]\n",
        "    response = requests.get(url)\n",
        "    with open(filename, 'wb') as f:\n",
        "        f.write(response.content)\n",
        "    print(f\"Archivo {filename} descargado.\")\n"
      ]
    },
    {
      "cell_type": "markdown",
      "metadata": {
        "id": "ProrE_CxZjL5"
      },
      "source": [
        "### Implementa un algoritmo que lea un archivo de ejemplares para el TSP."
      ]
    },
    {
      "cell_type": "code",
      "execution_count": 43,
      "metadata": {
        "id": "MSrCD03JyvqA"
      },
      "outputs": [],
      "source": [
        "def lectura_TSP(ejemplar, imprimir = False):\n",
        "  \"\"\"\n",
        "  Función que recibe de parámetro un ejemplar de TSP con el formato especificado en TSPLIB y de parámetro opcional si quieres imprimir en pantalla el nombre\n",
        "  y la dimensión del ejemplar, por default no se imprime.\n",
        "  Devuelve un diccionario con sus atributos y una tabla\n",
        "  con los nodos(ciudades) y las coordenadas de dónde están. Además imprime en pantalla el nombre y la dimensión del ejemplar.\n",
        "  \"\"\"\n",
        "  archivo = open(ejemplar,\"r\")\n",
        "  contenido = archivo.readlines()\n",
        "  datos = {} # Aquí se van a guardar los atributos del ejemplar\n",
        "  linea = 0 # Nos dice cuántas líneas son de especificaciones\n",
        "  while ':' in contenido[linea]: # Se busca el caracter especial \":\" para separar la palara clave del valor\n",
        "    atributo = contenido[linea].replace('\\n', \"\")\n",
        "    llave, valor = atributo.split(':',1) # Se guarda en el diccionario\n",
        "    llave = llave.replace(\" \", \"\")\n",
        "    datos[llave] = valor\n",
        "    linea += 1\n",
        "  datos['lectura'] = linea\n",
        "  dimension = int(datos['DIMENSION'])\n",
        "  ciudades = contenido[linea+1:]\n",
        "  # Para ver la cantidad de coordenadas nos fijamos en el primer set de datos que es el nodo cor1, cor2..\n",
        "  n = len(ciudades[0].split(\" \")) # hay n-1 coordenadas\n",
        "  listas = [[] for i in range(n)]# Creamos una lista de listas para ir almacenando las coordenadas y nodos para despues pasarlo a un DataFrame\n",
        "  for i in range(0, dimension):\n",
        "    ciudad = ciudades[i].replace('\\n', \"\")\n",
        "    partes = ciudad.split(\" \")\n",
        "    for j in range(0, n):\n",
        "      listas[j].append(float(partes[j]))\n",
        "  columnas = [\"no. ciudad\"] + [\"coordenada\" + str(i) for i in range(1,n)]\n",
        "  # Creamos un dataframe\n",
        "  coordenadas= pd.DataFrame(np.transpose(listas), columns= columnas, index = [i for i in range(1, dimension+1)])\n",
        "  # Se imprimen en pantalla las caracteristicas del ejemplar si imprimir = True\n",
        "  if imprimir == True:\n",
        "    print(\"El nombre del ejemplar es: \", datos['NAME'], \"\\n\")\n",
        "    print(\"La dimensión del ejemplar es: \", datos['DIMENSION'], \"\\n\")\n",
        "    # Si se desean más especificaciones hay que descomentar las siguientes dos lineas paa que se impriman\n",
        "    #print(\"Otras especificaciones: \\n\")\n",
        "    #print(datos)\n",
        "  return datos, coordenadas\n",
        "\n",
        "\n"
      ]
    },
    {
      "cell_type": "markdown",
      "metadata": {
        "id": "sqHPaJCvd78S"
      },
      "source": [
        "Probamos en los 4 ejemplares la implementación:"
      ]
    },
    {
      "cell_type": "code",
      "execution_count": 44,
      "metadata": {
        "colab": {
          "base_uri": "https://localhost:8080/"
        },
        "id": "U0lxB3dfeC9Y",
        "outputId": "24788d22-02b9-4fa9-e0b2-4d0c674767c4"
      },
      "outputs": [
        {
          "name": "stdout",
          "output_type": "stream",
          "text": [
            "El nombre del ejemplar es:   berlin52 \n",
            "\n",
            "La dimensión del ejemplar es:   52 \n",
            "\n",
            "------------------------------\n",
            "\n",
            "El nombre del ejemplar es:   ch130 \n",
            "\n",
            "La dimensión del ejemplar es:   130 \n",
            "\n",
            "------------------------------\n",
            "\n",
            "El nombre del ejemplar es:   eil51 \n",
            "\n",
            "La dimensión del ejemplar es:   51 \n",
            "\n",
            "------------------------------\n",
            "\n",
            "El nombre del ejemplar es:   pr152 \n",
            "\n",
            "La dimensión del ejemplar es:   152 \n",
            "\n",
            "------------------------------\n",
            "\n",
            "El nombre del ejemplar es:   pr76 \n",
            "\n",
            "La dimensión del ejemplar es:   76 \n",
            "\n",
            "------------------------------\n",
            "\n"
          ]
        }
      ],
      "source": [
        "lectura_TSP(\"berlin52.tsp\", True)\n",
        "print(\"------------------------------\\n\")\n",
        "lectura_TSP(\"ch130.tsp\", True)\n",
        "print(\"------------------------------\\n\")\n",
        "lectura_TSP(\"eil51.tsp\", True)\n",
        "print(\"------------------------------\\n\")\n",
        "lectura_TSP(\"pr152.tsp\", True)\n",
        "print(\"------------------------------\\n\")\n",
        "lectura_TSP(\"pr76.tsp\", True)\n",
        "print(\"------------------------------\\n\")\n"
      ]
    },
    {
      "cell_type": "markdown",
      "metadata": {
        "id": "Hf3DVjLLg0Lr"
      },
      "source": [
        "### Ahora realizamos la matriz de distancias\n",
        "Empleando el hecho que $d(i,j) = d(j,i)$ reducimos la complejidad computacional del problema. Pues $d(1,j) = d(j,1)$ y así nos queda una matriz de $(n-1) \\cdot (n-1)$ luego, $d(2,j) = d(i,2)$ y así sucesivamente. Concluyéndose así que sólo es necesario un ciclo _for_."
      ]
    },
    {
      "cell_type": "code",
      "execution_count": 45,
      "metadata": {
        "id": "v-cdEG58jV0n"
      },
      "outputs": [],
      "source": [
        "def matriz_distancias(ejemplar):\n",
        "  \"\"\"\n",
        "  Función que recibe de parámetro un ejemplar de TSP con el formato especificado en TSPLIB y devuelve su matriz de distancias asociada\n",
        "  \"\"\"\n",
        "  datos, coordenadas = lectura_TSP(ejemplar)\n",
        "  n = int(datos['DIMENSION'])\n",
        "  matriz = np.zeros((n,n))\n",
        "  # Calcula distancias entre cada par de nodos\n",
        "  for i in range(n):  # Itera sobre cada nodo\n",
        "      for j in range(i + 1, n):  # Solo itera sobre la mitad trangular superior derecha\n",
        "          distancia = np.sqrt((coordenadas['coordenada1'].iloc[i] - coordenadas['coordenada1'].iloc[j])**2 +\n",
        "                              (coordenadas['coordenada2'].iloc[i] - coordenadas['coordenada2'].iloc[j])**2)\n",
        "          matriz[i][j] = distancia  # Almacena la distancia en la matriz\n",
        "          matriz[j][i] = distancia  # La distancia es la misma de j a i\n",
        "\n",
        "  return matriz\n"
      ]
    },
    {
      "cell_type": "markdown",
      "metadata": {
        "id": "nwDVuIKEuKZE"
      },
      "source": [
        "### Implementa un algoritmo para generar soluciones aleatorias para el TSP, utilizando algún esquema de codificación basado en permutaciones"
      ]
    },
    {
      "cell_type": "code",
      "execution_count": 8,
      "metadata": {
        "id": "Sx8nU1eMuR4n"
      },
      "outputs": [
        {
          "data": {
            "text/plain": [
              "\"def generar_sol_aleatoria(ejemplar, semilla =int(time.time())):\\n  np.random.seed(semilla)\\n  datos, coordenadas = lectura_TSP(ejemplar)\\n  dimension = int(datos['DIMENSION'])\\n  solucion = list([1] + list(np.random.permutation(list(range(2, dimension + 1)))))\\n  return solucion # Como lista\""
            ]
          },
          "execution_count": 8,
          "metadata": {},
          "output_type": "execute_result"
        }
      ],
      "source": [
        "# Usamos la funcion permutation de numpy, dejando fijo 1 y permutando de 2 a n\n",
        "# Convertimos a lista después para un problema en particular, por lo que la llamaremos dentro de la función\n",
        "\n",
        "'''def generar_sol_aleatoria(ejemplar, semilla =int(time.time())):\n",
        "  np.random.seed(semilla)\n",
        "  datos, coordenadas = lectura_TSP(ejemplar)\n",
        "  dimension = int(datos['DIMENSION'])\n",
        "  solucion = list([1] + list(np.random.permutation(list(range(2, dimension + 1)))))\n",
        "  return solucion # Como lista'''\n",
        "\n",
        "# Intentamos implementar lo anterior, pero generaba la misma solución. Las celdas se ejecutaban muy rápidamente\n",
        "# y no le daba tiempo de cambiar el valor de la semilla.\n"
      ]
    },
    {
      "cell_type": "code",
      "execution_count": 46,
      "metadata": {},
      "outputs": [],
      "source": [
        "import numpy as np\n",
        "\n",
        "def generar_sol_aleatoria(ejemplar):\n",
        "    datos, coordenadas = lectura_TSP(ejemplar)\n",
        "    dimension = int(datos['DIMENSION'])\n",
        "    solucion = list([1] + list(np.random.permutation(list(range(2, dimension + 1)))))\n",
        "    return solucion  # Como lista\n"
      ]
    },
    {
      "cell_type": "code",
      "execution_count": 179,
      "metadata": {
        "id": "P86o0ntrx25B"
      },
      "outputs": [],
      "source": [
        "#generar_sol_aleatoria('pr76.tsp')\n"
      ]
    },
    {
      "cell_type": "markdown",
      "metadata": {
        "id": "w9K56mCFvqux"
      },
      "source": [
        "### Implementa un algoritmo para evaluar una solución (permutación)"
      ]
    },
    {
      "cell_type": "code",
      "execution_count": 47,
      "metadata": {
        "id": "sWoECQ72v8r-"
      },
      "outputs": [],
      "source": [
        "def evaluar_sol(ejemplar, solucion):\n",
        "  matriz = matriz_distancias(ejemplar) # llamamos matriz de distancias\n",
        "  # inicializamos la distancia total\n",
        "  total = 0\n",
        "  for i in range(len(solucion)-1):\n",
        "    a = int(solucion[i])-1 #Hacemos que el index comience en cero\n",
        "    b = int(solucion[i+1])-1 # Primero los pasamos a enteros para que los reconozca adecuadamente en la matriz\n",
        "    total += int(matriz[a][b])\n",
        "  # Falta calcular la distancia del fin de la lista a 1\n",
        "  c = int(solucion[-1])-1\n",
        "  total += int(matriz[c][1])\n",
        "\n",
        "  return total\n"
      ]
    },
    {
      "cell_type": "code",
      "execution_count": 48,
      "metadata": {
        "colab": {
          "base_uri": "https://localhost:8080/"
        },
        "id": "9ehpvQ7j0TxM",
        "outputId": "4036bea7-767f-453a-8878-5b37fcc678a6"
      },
      "outputs": [
        {
          "name": "stdout",
          "output_type": "stream",
          "text": [
            "El costo de la solucion es 45877\n"
          ]
        }
      ],
      "source": [
        "# Lo probamos para un ejemplar cualquiera de los dados:\n",
        "solucion = generar_sol_aleatoria('ch130.tsp')\n",
        "costo = evaluar_sol('ch130.tsp', solucion)\n",
        "print(\"El costo de la solucion es\", costo)\n"
      ]
    },
    {
      "cell_type": "markdown",
      "metadata": {
        "id": "INdAPrma5zs3"
      },
      "source": [
        "### Programa 1\n",
        "Programa que reciba como parámetros (en la misma línea de ejecución):\n",
        "\n",
        " * Nombre del archivo con los datos del ejemplar\n",
        " * Semilla del generador de aleatorio\n",
        " * Nombre del archivo con los datos de la solución generada\n",
        "\n",
        "Como salida, deberá imprimir algunos datos generales del ejemplar leído. Por ejemplo:\n",
        "\n",
        "  * Nombre del ejemplar (archivo)\n",
        "  * Tamaño del ejemplar (número de ciudades)\n",
        "  * Arista de mayor peso (o distancia más grande)\n",
        "  * Ejemplo de solución (solo los primeras y los últimas 3 elementos de la permutación)\n",
        "  * En caso de que se haya indicado, se deberá escribir en un archivo de texto la solución generada (completa)\n"
      ]
    },
    {
      "cell_type": "code",
      "execution_count": 49,
      "metadata": {
        "id": "B9kAspmP6ewO"
      },
      "outputs": [],
      "source": [
        "def arista_mayor(ejemplar):\n",
        "  matriz = matriz_distancias(ejemplar)\n",
        "  n = len(matriz)\n",
        "  # Inicializamos variables para ahí guardar el no. de columna y no. de fila del maayor valor entre ciudades\n",
        "  i_mayor = -1\n",
        "  j_mayor = -1\n",
        "  valor_mayor = -1\n",
        "\n",
        "  for i in range(n):\n",
        "    for j in range(n):\n",
        "      if float(matriz[i][j]) > valor_mayor:\n",
        "        i_mayor = i\n",
        "        j_mayor = j\n",
        "        valor_mayor = float(matriz[i][j])\n",
        "  return i_mayor+1, j_mayor+1, valor_mayor # Sumamos 1 para que el index de las ciudades comience en 1 como en los originales\n",
        "\n",
        "\n",
        "def lectura_ejemplar(ejemplar, nombre_archivo=str(time.time())):\n",
        "  datos, coordenadas = lectura_TSP(ejemplar, True) # True para imprimir nombre y dimension\n",
        "  i_mayor, j_mayor, valor_mayor = arista_mayor(ejemplar)\n",
        "  # Imprimir arista de mayor valor y entre cuales ciudades está\n",
        "  print(\"La arista de mayor peso se encuentra entre las ciudades \", i_mayor, \"y \", j_mayor, \"con un peso de \", valor_mayor,\"\\n\")\n",
        "  # Ejemplo de sol e imprimimos sus primeros y últimos 3 valores\n",
        "  solucion = generar_sol_aleatoria(ejemplar)\n",
        "  print(\"Una solución al ejemplar es:\", solucion[0], solucion[1], solucion[2], \",...,\", solucion[-3], solucion[-2], solucion[-1])\n",
        "\n",
        "  archivo = nombre_archivo + \".txt\"\n",
        "  # Guardamos los datos de nombre, dimension como lo especifica TSPLIB y la solucion en el archivo\n",
        "  contenido = (\n",
        "    f\"NAME : {datos['NAME']}\\n\"\n",
        "    f\"DIMENSION: {datos['DIMENSION']}\\n\"\n",
        "    f\"Una solución al ejemplar es \\n\"\n",
        "  )\n",
        "  contenido += ',\\n '.join(str(i) for i in solucion)\n",
        "\n",
        "  with open(nombre_archivo, 'w') as archivo:\n",
        "    archivo.write(contenido)\n",
        "\n",
        "  print('La solucion se guardó en el archivo ', f'{nombre_archivo}.txt')\n"
      ]
    },
    {
      "cell_type": "code",
      "execution_count": 50,
      "metadata": {
        "colab": {
          "base_uri": "https://localhost:8080/"
        },
        "id": "7QbAgwhhDnQf",
        "outputId": "808d6d2f-a30c-4076-bcae-2d6b958b2013"
      },
      "outputs": [
        {
          "name": "stdout",
          "output_type": "stream",
          "text": [
            "El nombre del ejemplar es:   eil51 \n",
            "\n",
            "La dimensión del ejemplar es:   51 \n",
            "\n",
            "La arista de mayor peso se encuentra entre las ciudades  36 y  40 con un peso de  85.63293758829018 \n",
            "\n",
            "Una solución al ejemplar es: 1 2 16 ,..., 7 45 43\n",
            "La solucion se guardó en el archivo  archivo_sol.txt\n"
          ]
        }
      ],
      "source": [
        "# Lo probamos con ejemplar cualquiera de los dados\n",
        "lectura_ejemplar('eil51.tsp', 'archivo_sol')\n"
      ]
    },
    {
      "cell_type": "markdown",
      "metadata": {
        "id": "C8LGmCzLGOIi"
      },
      "source": [
        "## Programa 2\n",
        "Programa reciba como parámetros (en la misma línea de ejecución) :\n",
        "\n",
        "* Nombre del archivo con los datos del ejemplar\n",
        "* Nombre del archivo con los datos de la solución a evaluar\n",
        "\n",
        "Como salida, deberá imprimir algunos datos generales del ejemplar leído. Por ejemplo:\n",
        "\n",
        "* Nombre del ejemplar (archivo)\n",
        "* Tamaño del ejemplar (número de ciudades)\n",
        "* Costo de la solución\n"
      ]
    },
    {
      "cell_type": "code",
      "execution_count": 51,
      "metadata": {
        "id": "LZ__tMTAGdc4"
      },
      "outputs": [],
      "source": [
        "def leer_sol(archivo_sol, imprimir = False):\n",
        "  # Abrimos y leemos el archivo, guardando los datos como en la funcion leer_archivo\n",
        "  with open(archivo_sol, 'r') as f:\n",
        "    contenido = f.readlines()\n",
        "  datos = {} # Aquí se van a guardar los atributos del ejemplar\n",
        "  linea = 0 # Nos dice cuántas líneas son de especificaciones\n",
        "  solucion = []\n",
        "  while ':' in contenido[linea]: # Se busca el caracter especial \":\" para separar la palara clave del valor\n",
        "    atributo = contenido[linea].replace('\\n', \"\")\n",
        "    llave, valor = atributo.split(':',1) # Se guarda en el diccionario\n",
        "    llave = llave.replace(\" \", \"\")\n",
        "    datos[llave] = valor\n",
        "    linea += 1\n",
        "  datos['lectura'] = linea\n",
        "  dimension = int(datos['DIMENSION'])\n",
        "  ciudades = contenido[linea+1:]\n",
        "  # Nos deshacemos de salto de linea con strip( ) y de la coma con rstrip()\n",
        "  solucion = [int(ciudad.strip().rstrip(',')) for ciudad in ciudades]\n",
        "  if imprimir == True:\n",
        "    print(\"Ejemplar: \", datos['NAME'], \"\\n\")\n",
        "    print(\"Dimension: \", datos['DIMENSION'], \"\\n\")\n",
        "    print(\"Solucion en archivo: \", solucion[0], solucion[1], solucion[2], \",...,\", solucion[-3], solucion[-2], solucion[-1])\n",
        "  return solucion\n",
        "\n",
        "\n",
        "def lectura_solucion(ejemplar, archivo_sol):\n",
        "  datos, coordenadas = lectura_TSP(ejemplar, True) # True para imprimir nombre y dimension\n",
        "  solucion = leer_sol(archivo_sol)\n",
        "  costo = evaluar_sol('ch130.tsp', solucion)\n",
        "  print(\"El costo de la solucion es\", costo)\n",
        "\n",
        "\n"
      ]
    },
    {
      "cell_type": "code",
      "execution_count": 20,
      "metadata": {
        "colab": {
          "base_uri": "https://localhost:8080/"
        },
        "id": "7caJAKJ5Mufy",
        "outputId": "1bfaf162-593d-4336-bb98-b9630cfa1fe5"
      },
      "outputs": [
        {
          "name": "stdout",
          "output_type": "stream",
          "text": [
            "El nombre del ejemplar es:   ch130 \n",
            "\n",
            "La dimensión del ejemplar es:   130 \n",
            "\n",
            "El costo de la solucion es 14610\n"
          ]
        }
      ],
      "source": [
        "lectura_solucion('ch130.tsp', 'archivo_sol')\n"
      ]
    },
    {
      "cell_type": "markdown",
      "metadata": {},
      "source": [
        "# Ejercicio 2"
      ]
    },
    {
      "cell_type": "code",
      "execution_count": 52,
      "metadata": {},
      "outputs": [],
      "source": [
        "'''Primero implementamos el operador de cambio de dos elementos \n",
        "   consecutivos para permutaciones.'''\n",
        "\n",
        "def operadorCambioConsecutivo(permutacion, indice):\n",
        "    '''Debe recibir una permutación y sólo necesita de un índice porque\n",
        "       los elementos a intercambiar son consecutivos (queremos el índice\n",
        "       del primer elemento).'''\n",
        "    \n",
        "    '''Aquí es importante poner `nuevaPermutacion = permutacion[:]` en \n",
        "       vez de `nuevaPermutacion = permutacion`. Porque en la segunda ambos\n",
        "       nombres apuntan a la misma lista en la memoria y si hacemos la \n",
        "       primera, `nuevaPermutacion` es una nueva lista independiente de la\n",
        "       permutación original, así que podemos modificarla sin cambiar a la\n",
        "       permutación original.'''\n",
        "    nuevaPermutacion = permutacion[:]\n",
        "\n",
        "    # Si dimos un índice menor o igual al que corresponde al penúltimo\n",
        "    # elemento de la permutación...\n",
        "    if indice < len(permutacion) - 1:\n",
        "        nuevaPermutacion[indice], nuevaPermutacion[indice + 1] = nuevaPermutacion[indice + 1], nuevaPermutacion[indice]\n",
        "    # hacemos la permutación consecutiva (porque se puede)\n",
        "\n",
        "    return nuevaPermutacion # En caso de haber dado un índice no válido\n",
        "                            # (por ejemplo, el correspondiente al último\n",
        "                            # elemento de la lista), se retorna una copia\n",
        "                            # de la permutación original.\n"
      ]
    },
    {
      "cell_type": "code",
      "execution_count": 53,
      "metadata": {},
      "outputs": [],
      "source": [
        "'''Ahora implementamos el operador de intercambio de dos elementos\n",
        "   no consecutivos.'''\n",
        "\n",
        "def OperadorNoConsecutivo(permutacion, indice1, indice2):\n",
        "    '''Recibe una permutación y los dos índices que vamos a intercambiar'''\n",
        "\n",
        "    # Lo mismo que en el anterior, queremos una copia independiente.\n",
        "    nuevaPermutacion = permutacion[:]\n",
        "\n",
        "    # Para que se de el intercambio:\n",
        "        # Los índices deben ser distintos.\n",
        "        # Ambos tienen que corresponder a elementos que sí estén en la permutación.\n",
        "    if (indice1 != indice2) and (indice1 < len(permutacion)) and (indice2 < len(permutacion)):\n",
        "        nuevaPermutacion[indice1], nuevaPermutacion[indice2] = nuevaPermutacion[indice2], nuevaPermutacion[indice1]\n",
        "    \n",
        "    return nuevaPermutacion # En caso de haber dado algún índice no válido o\n",
        "                            # que ambos índices sean iguales, se retorna una copia \n",
        "                            # la permutación original.\n"
      ]
    },
    {
      "cell_type": "code",
      "execution_count": 54,
      "metadata": {},
      "outputs": [],
      "source": [
        "'''La siguiente es una implementación de un operador que parte a la\n",
        "   lista en dos y las intercambia. Es parecido al de intercambio de\n",
        "   dos elementos, sólo que ahora trabajamos con grupos completos.'''\n",
        "\n",
        "def OperadorInvParticion(permutacion, indice):\n",
        "    '''Recibe la permutación y el índice donde vamos a hacer el corte.'''\n",
        "\n",
        "    # Lo mismo que en los anteriores, queremos una copia independiente.\n",
        "    nuevaPermutacion = permutacion[:]\n",
        "    \n",
        "    # Si dimos un índice que corresponde a un elemento distinto al \n",
        "    # primero y el último (de otro modo, no tiene sentido hacer 'el\n",
        "    # corte').\n",
        "    if 0 < indice < len(permutacion)-1:\n",
        "        nuevaPermutacion = nuevaPermutacion[indice:] + nuevaPermutacion[:indice]\n",
        "\n",
        "    return nuevaPermutacion # En caso de haber dado algún índice no válido o\n",
        "                            # que éste corresponda al primer o último elemento\n",
        "                            # se retorna la permutación original.\n"
      ]
    },
    {
      "cell_type": "markdown",
      "metadata": {},
      "source": [
        "Veamos unos ejemplos de uso:"
      ]
    },
    {
      "cell_type": "code",
      "execution_count": 55,
      "metadata": {},
      "outputs": [
        {
          "name": "stdout",
          "output_type": "stream",
          "text": [
            "La permutación original es [1, 2, 3, 4, 5, 6, 7, 8, 9, 10]\n",
            "Algunas permutaciones obtenidas de hacer el intercambio de elementos consecutivos son:\n",
            "[1, 2, 3, 5, 4, 6, 7, 8, 9, 10], [1, 2, 3, 4, 5, 6, 7, 8, 10, 9] y [1, 2, 3, 4, 5, 6, 7, 8, 9, 10]\n",
            "\n",
            "Algunas permutaciones obtenidas de hacer el intercambio de dos elementos no necesariamente consecutivos son:\n",
            "[1, 2, 6, 4, 5, 3, 7, 8, 9, 10], [1, 2, 3, 4, 5, 10, 7, 8, 9, 6] y [1, 2, 3, 4, 5, 6, 7, 8, 9, 10]\n",
            "\n",
            "Algunas permutaciones obtenidas de usar el operador de inversión de partición son:\n",
            "[6, 7, 8, 9, 10, 1, 2, 3, 4, 5], [9, 10, 1, 2, 3, 4, 5, 6, 7, 8] y [1, 2, 3, 4, 5, 6, 7, 8, 9, 10]\n"
          ]
        }
      ],
      "source": [
        "permutacion = [1, 2, 3, 4, 5, 6, 7, 8, 9, 10]\n",
        "\n",
        "print(f\"La permutación original es {permutacion}\")\n",
        "#print(len(permutacion))\n",
        "\n",
        "# Intercambio de consecutivos:\n",
        "permConsecutiva1 = operadorCambioConsecutivo(permutacion, 3)\n",
        "permConsecutiva2 = operadorCambioConsecutivo(permutacion, 8)\n",
        "permConsecutiva3 = operadorCambioConsecutivo(permutacion, 11) \n",
        "# El último nos devolverá la permutación original\n",
        "\n",
        "print(f\"Algunas permutaciones obtenidas de hacer el intercambio de elementos consecutivos son:\\n\"\n",
        "      f\"{permConsecutiva1}, {permConsecutiva2} y {permConsecutiva3}\")\n",
        "\n",
        "# Intercambio de no-consecutivos:\n",
        "permNoConsecutiva1 = OperadorNoConsecutivo(permutacion, 2, 5)\n",
        "permNoConsecutiva2 = OperadorNoConsecutivo(permutacion, 5, 9)\n",
        "permNoConsecutiva3 = OperadorNoConsecutivo(permutacion, 1, 10)\n",
        "# El último nos devolverá la permutación original\n",
        "\n",
        "print(f\"\\nAlgunas permutaciones obtenidas de hacer el intercambio de dos elementos no necesariamente consecutivos son:\\n\"\n",
        "      f\"{permNoConsecutiva1}, {permNoConsecutiva2} y {permNoConsecutiva3}\")\n",
        "\n",
        "# Inversión de partición:\n",
        "permInv1 = OperadorInvParticion(permutacion, 5)\n",
        "permInv2 = OperadorInvParticion(permutacion, 8)\n",
        "permInv3 = OperadorInvParticion(permutacion, 9)\n",
        "# El último nos devolverá la permutación original\n",
        "\n",
        "print(f\"\\nAlgunas permutaciones obtenidas de usar el operador de inversión de partición son:\\n\"\n",
        "      f\"{permInv1}, {permInv2} y {permInv3}\")\n"
      ]
    },
    {
      "cell_type": "markdown",
      "metadata": {
        "id": "Gs6XUSdxUd8X"
      },
      "source": [
        "## Ejercicio 3"
      ]
    },
    {
      "cell_type": "code",
      "execution_count": 56,
      "metadata": {},
      "outputs": [],
      "source": [
        "def generar_vecindades_CambioConsecutivo(solucion_inicial, operadorCambioConsecutivo):\n",
        "    vecindades = []\n",
        "    n = len(solucion_inicial)\n",
        "    \n",
        "    # Esta es la vecindad completa:\n",
        "    VECINDAD = [operadorCambioConsecutivo(solucion_inicial, i) for i in range(n - 1)]\n",
        "    \n",
        "    # Vecindad pequeña: un subconjunto pequeño\n",
        "    vecindad1 = VECINDAD[:n // 10] # 10% de los intercambios\n",
        "    vecindades.append(vecindad1) \n",
        "\n",
        "    # Vecindad mediana: cambia más pares consecutivos\n",
        "    vecindad2 = VECINDAD[:n // 5]  # 20% de intercambios\n",
        "    vecindades.append(vecindad2)\n",
        "\n",
        "    # Vecindad grande: \n",
        "    vecindad3 = VECINDAD[:n // 3]  # 33% de intercambios\n",
        "    vecindades.append(vecindad3)  \n",
        "\n",
        "    return vecindades\n",
        "\n",
        "\n",
        "def generar_vecindades_NoConsecutivo(solucion_inicial, OperadorNoConsecutivo):\n",
        "    vecindades = []\n",
        "    n = len(solucion_inicial)\n",
        "\n",
        "    # Vecindad pequeña: pocos intercambios no consecutivos\n",
        "    vecindad1 = []\n",
        "    for _ in range(n // 10):  # 10% de intercambios\n",
        "        i, j = random.sample(range(n), 2)\n",
        "        vecindad1.append(OperadorNoConsecutivo(solucion_inicial, i, j))\n",
        "    vecindades.append(vecindad1)\n",
        "\n",
        "    # Vecindad mediana: más intercambios no consecutivos\n",
        "    vecindad2 = []\n",
        "    for _ in range(n // 5):  # 20% de intercambios\n",
        "        i, j = random.sample(range(n), 2)\n",
        "        vecindad2.append(OperadorNoConsecutivo(solucion_inicial, i, j))\n",
        "    vecindades.append(vecindad2)\n",
        "\n",
        "    # Vecindad grande: muchos intercambios no consecutivos\n",
        "    vecindad3 = []\n",
        "    for _ in range(n // 3):  # 33% de intercambios\n",
        "        i, j = random.sample(range(n), 2)\n",
        "        vecindad3.append(OperadorNoConsecutivo(solucion_inicial, i, j))\n",
        "    vecindades.append(vecindad3)\n",
        "\n",
        "    return vecindades\n",
        "\n",
        "\n",
        "def generar_vecindades_InvParticion(solucion_inicial, OperadorInvParticion):\n",
        "    vecindades = []\n",
        "    n = len(solucion_inicial)\n",
        "\n",
        "    # Vecindad pequeña: realiza cortes en pocos lugares\n",
        "    vecindad1 = [OperadorInvParticion(solucion_inicial, i) for i in range(1, n // 10)]\n",
        "    vecindades.append(vecindad1)\n",
        "\n",
        "    # Vecindad mediana: realiza más cortes\n",
        "    vecindad2 = [OperadorInvParticion(solucion_inicial, i) for i in range(1, n // 5)]\n",
        "    vecindades.append(vecindad2)\n",
        "\n",
        "    # Vecindad grande: realiza cortes en muchos más lugares\n",
        "    vecindad3 = [OperadorInvParticion(solucion_inicial, i) for i in range(1, n // 3)]\n",
        "    vecindades.append(vecindad3)\n",
        "\n",
        "    return vecindades\n"
      ]
    },
    {
      "cell_type": "code",
      "execution_count": 57,
      "metadata": {},
      "outputs": [
        {
          "name": "stdout",
          "output_type": "stream",
          "text": [
            "Vecindades usando el operador de cambio consecutivo:\n",
            "Vecindad 1: [[2, 1, 3, 4, 5, 6, 7, 8, 9, 10, 11, 12, 13, 14, 15, 16, 17, 18, 19, 20], [1, 3, 2, 4, 5, 6, 7, 8, 9, 10, 11, 12, 13, 14, 15, 16, 17, 18, 19, 20]]\n",
            "Vecindad 2: [[2, 1, 3, 4, 5, 6, 7, 8, 9, 10, 11, 12, 13, 14, 15, 16, 17, 18, 19, 20], [1, 3, 2, 4, 5, 6, 7, 8, 9, 10, 11, 12, 13, 14, 15, 16, 17, 18, 19, 20], [1, 2, 4, 3, 5, 6, 7, 8, 9, 10, 11, 12, 13, 14, 15, 16, 17, 18, 19, 20], [1, 2, 3, 5, 4, 6, 7, 8, 9, 10, 11, 12, 13, 14, 15, 16, 17, 18, 19, 20]]\n",
            "Vecindad 3: [[2, 1, 3, 4, 5, 6, 7, 8, 9, 10, 11, 12, 13, 14, 15, 16, 17, 18, 19, 20], [1, 3, 2, 4, 5, 6, 7, 8, 9, 10, 11, 12, 13, 14, 15, 16, 17, 18, 19, 20], [1, 2, 4, 3, 5, 6, 7, 8, 9, 10, 11, 12, 13, 14, 15, 16, 17, 18, 19, 20], [1, 2, 3, 5, 4, 6, 7, 8, 9, 10, 11, 12, 13, 14, 15, 16, 17, 18, 19, 20], [1, 2, 3, 4, 6, 5, 7, 8, 9, 10, 11, 12, 13, 14, 15, 16, 17, 18, 19, 20], [1, 2, 3, 4, 5, 7, 6, 8, 9, 10, 11, 12, 13, 14, 15, 16, 17, 18, 19, 20]]\n",
            "\n",
            "Vecindades usando el operador de intercambio no consecutivo:\n",
            "Vecindad 1: [[1, 11, 3, 4, 5, 6, 7, 8, 9, 10, 2, 12, 13, 14, 15, 16, 17, 18, 19, 20], [1, 2, 3, 4, 5, 6, 7, 8, 9, 10, 11, 12, 17, 14, 15, 16, 13, 18, 19, 20]]\n",
            "Vecindad 2: [[1, 2, 3, 8, 5, 6, 7, 4, 9, 10, 11, 12, 13, 14, 15, 16, 17, 18, 19, 20], [1, 2, 3, 4, 5, 6, 7, 8, 9, 10, 11, 12, 13, 14, 18, 16, 17, 15, 19, 20], [1, 2, 3, 4, 5, 6, 9, 8, 7, 10, 11, 12, 13, 14, 15, 16, 17, 18, 19, 20], [1, 2, 3, 4, 5, 6, 7, 8, 9, 10, 11, 13, 12, 14, 15, 16, 17, 18, 19, 20]]\n",
            "Vecindad 3: [[1, 2, 3, 4, 5, 6, 7, 14, 9, 10, 11, 12, 13, 8, 15, 16, 17, 18, 19, 20], [1, 2, 3, 4, 5, 6, 7, 8, 9, 10, 11, 13, 12, 14, 15, 16, 17, 18, 19, 20], [1, 14, 3, 4, 5, 6, 7, 8, 9, 10, 11, 12, 13, 2, 15, 16, 17, 18, 19, 20], [1, 2, 3, 4, 5, 6, 7, 8, 9, 10, 11, 12, 13, 14, 15, 16, 17, 20, 19, 18], [1, 2, 3, 4, 5, 6, 7, 8, 9, 10, 11, 12, 13, 14, 16, 15, 17, 18, 19, 20], [1, 2, 3, 4, 5, 6, 7, 8, 9, 10, 11, 12, 17, 14, 15, 16, 13, 18, 19, 20]]\n",
            "\n",
            "Vecindades usando el operador de inversión por partición:\n",
            "Vecindad 1: [[2, 3, 4, 5, 6, 7, 8, 9, 10, 11, 12, 13, 14, 15, 16, 17, 18, 19, 20, 1]]\n",
            "Vecindad 2: [[2, 3, 4, 5, 6, 7, 8, 9, 10, 11, 12, 13, 14, 15, 16, 17, 18, 19, 20, 1], [3, 4, 5, 6, 7, 8, 9, 10, 11, 12, 13, 14, 15, 16, 17, 18, 19, 20, 1, 2], [4, 5, 6, 7, 8, 9, 10, 11, 12, 13, 14, 15, 16, 17, 18, 19, 20, 1, 2, 3]]\n",
            "Vecindad 3: [[2, 3, 4, 5, 6, 7, 8, 9, 10, 11, 12, 13, 14, 15, 16, 17, 18, 19, 20, 1], [3, 4, 5, 6, 7, 8, 9, 10, 11, 12, 13, 14, 15, 16, 17, 18, 19, 20, 1, 2], [4, 5, 6, 7, 8, 9, 10, 11, 12, 13, 14, 15, 16, 17, 18, 19, 20, 1, 2, 3], [5, 6, 7, 8, 9, 10, 11, 12, 13, 14, 15, 16, 17, 18, 19, 20, 1, 2, 3, 4], [6, 7, 8, 9, 10, 11, 12, 13, 14, 15, 16, 17, 18, 19, 20, 1, 2, 3, 4, 5]]\n"
          ]
        }
      ],
      "source": [
        "'''Veamos un ejemplo de uso de nuestras funciones:'''\n",
        "\n",
        "# Permutación inicial\n",
        "solucionInicial = [1, 2, 3, 4, 5, 6, 7, 8, 9, 10, 11, 12, 13, 14, 15, 16, 17, 18, 19, 20]\n",
        "\n",
        "# Generar vecindades usando el operador de cambio consecutivo\n",
        "vecindadesCambioConsecutivo = generar_vecindades_CambioConsecutivo(solucionInicial, operadorCambioConsecutivo)\n",
        "\n",
        "# Generar vecindades usando el operador de intercambio no consecutivo\n",
        "vecindadesNoConsecutivo = generar_vecindades_NoConsecutivo(solucionInicial, OperadorNoConsecutivo)\n",
        "\n",
        "# Generar vecindades usando el operador de inversión por partición\n",
        "vecindadesInvParticion = generar_vecindades_InvParticion(solucionInicial, OperadorInvParticion)\n",
        "\n",
        "# Mostrar resultados\n",
        "print(\"Vecindades usando el operador de cambio consecutivo:\")\n",
        "for ind, vecindad in enumerate(vecindadesCambioConsecutivo):\n",
        "    print(f\"Vecindad {ind+1}: {vecindad}\")\n",
        "\n",
        "print(\"\\nVecindades usando el operador de intercambio no consecutivo:\")\n",
        "for ind, vecindad in enumerate(vecindadesNoConsecutivo):\n",
        "    print(f\"Vecindad {ind+1}: {vecindad}\")\n",
        "\n",
        "print(\"\\nVecindades usando el operador de inversión por partición:\")\n",
        "for ind, vecindad in enumerate(vecindadesInvParticion):\n",
        "    print(f\"Vecindad {ind+1}: {vecindad}\")\n"
      ]
    },
    {
      "cell_type": "code",
      "execution_count": 58,
      "metadata": {},
      "outputs": [],
      "source": [
        "def generarVecindadGeneral(solucionInicial, tipoVecindad):\n",
        "    '''Genera vecindades según el tipo de vecindad solicitado.'''\n",
        "    \n",
        "    if tipoVecindad == \"CambioConsecutivo\":\n",
        "        return generar_vecindades_CambioConsecutivo(solucionInicial, operadorCambioConsecutivo)\n",
        "    \n",
        "    elif tipoVecindad == \"NoConsecutivo\":\n",
        "        return generar_vecindades_NoConsecutivo(solucionInicial, OperadorNoConsecutivo)\n",
        "    \n",
        "    elif tipoVecindad == \"InvParticion\":\n",
        "        return generar_vecindades_InvParticion(solucionInicial, OperadorInvParticion)\n",
        "    \n",
        "    else:\n",
        "        raise ValueError(f\"Tipo de vecindad '{tipoVecindad}' no reconocido.\")\n"
      ]
    },
    {
      "cell_type": "code",
      "execution_count": 59,
      "metadata": {},
      "outputs": [
        {
          "name": "stdout",
          "output_type": "stream",
          "text": [
            "Lista creciente de vecindades generadas con Cambio Consecutivo:\n",
            " [[[2, 1, 3, 4, 5, 6, 7, 8, 9, 10]], [[2, 1, 3, 4, 5, 6, 7, 8, 9, 10], [1, 3, 2, 4, 5, 6, 7, 8, 9, 10]], [[2, 1, 3, 4, 5, 6, 7, 8, 9, 10], [1, 3, 2, 4, 5, 6, 7, 8, 9, 10], [1, 2, 4, 3, 5, 6, 7, 8, 9, 10]]]\n"
          ]
        }
      ],
      "source": [
        "'''Ejemplo de uso:'''\n",
        "\n",
        "# Permutación inicial\n",
        "solucionInicial = [1, 2, 3, 4, 5, 6, 7, 8, 9, 10]\n",
        "\n",
        "# Generar una vecindad de tipo \"CambioConsecutivo\"\n",
        "Vecindad = generarVecindadGeneral(solucionInicial, \"CambioConsecutivo\")\n",
        "print(\"Lista creciente de vecindades generadas con Cambio Consecutivo:\\n\", Vecindad)\n",
        "\n",
        "#print(len(Vecindad))\n"
      ]
    },
    {
      "cell_type": "code",
      "execution_count": 60,
      "metadata": {},
      "outputs": [],
      "source": [
        "'''Función que, dada una solución y un ejemplar, evalúa su costo total.'''\n",
        "\n",
        "ejemplar = \"berlin52.tsp\" # La idea es poder  mover esto.\n",
        "\n",
        "def evaluar(s):\n",
        "    costo_total = evaluar_sol(ejemplar, s)\n",
        "    return costo_total\n"
      ]
    },
    {
      "cell_type": "code",
      "execution_count": 62,
      "metadata": {},
      "outputs": [],
      "source": [
        "'''Función que, dada una solucion inicial y un listado de vecinos, nos escupe el primer vecino en mejorar'''\n",
        "\n",
        "def primVecinoMejorar(solucionInicial, vecinos):\n",
        "    mejorVecino = solucionInicial # En principio, la solución inicial ya puede ser el mejor valor de la \n",
        "                                  # vecindad.\n",
        "    mejorEvaluacion = evaluar(solucionInicial) # La solución inicial es, en principio, la mejor \n",
        "                                               # evaluación.\n",
        "\n",
        "    while vecinos: # Mientras haya vecinos en la vecindad\n",
        "        vecino = random.choice(vecinos) # Elige un vecino al azar\n",
        "        evaluacionVecino = evaluar(vecino) # Evaluamos al vecino.\n",
        "\n",
        "        if evaluacionVecino < mejorEvaluacion: # Si mejora la evaluación.\n",
        "            mejorVecino = vecino\n",
        "            mejorEvaluacion = evaluacionVecino\n",
        "            break # Aquí terminamos, buscamos el primer vecino en mejorar.\n",
        "\n",
        "        vecinos.remove(vecino) # Eliminamos el vecino ya evaluado de la lista\n",
        "    \n",
        "    return mejorVecino\n"
      ]
    },
    {
      "cell_type": "code",
      "execution_count": 63,
      "metadata": {},
      "outputs": [],
      "source": [
        "'''Función que define una sencilla perturbación estocástica dada una cierta solución.'''\n",
        "\n",
        "def perturbacion_estocastica(s):\n",
        "    i, j = random.sample(range(len(s)), 2)\n",
        "    s[i], s[j] = s[j], s[i]\n",
        "    return s\n"
      ]
    },
    {
      "cell_type": "code",
      "execution_count": 64,
      "metadata": {},
      "outputs": [],
      "source": [
        "# La función recibe como parámetros una solución inicial y un tipo de vecindad determinado \n",
        "# por el operador que querramos usar.\n",
        "def busqueda_por_vecindades(solucionInicial, tipoVecindad):\n",
        "    mejorSolucion = solucionInicial # En principio, la mejor solución, es la inicial\n",
        "\n",
        "    itersMAX = 1000\n",
        "    numVecindad = 0 # Tenemos 3 vecindades, así Vecindades[0, 1, 2]\n",
        "    itersSinMejorarMAX = 100 # Máximo número de iteraciones sin mejora permitidas\n",
        "    itersSinMejorar = 0 # Contador de iteraciones sin mejorar\n",
        "    iteraciones = 0 # Contador de iteraciones\n",
        "    perturbaciones = 0\n",
        "    perturbacionesMAX = 5\n",
        "\n",
        "    while (iteraciones < itersMAX) and (itersSinMejorar < itersSinMejorarMAX) and (perturbaciones < perturbacionesMAX):\n",
        "        \n",
        "        Vecindad = generarVecindadGeneral(mejorSolucion, tipoVecindad)\n",
        "        # 'Vecindad' es una lista de listas, contiene a cada una de las vecindades en orden \n",
        "        # creciente, sus elementos están enumerados como: 0, 1, 2\n",
        "        \n",
        "        # Queremos que, siempre que podamos mejorar nos sigamos moviendo por las vecindades de una misma \n",
        "        # solución y sólo perturbar cuando ya hayamos llegado a un óptimo local.\n",
        "        while numVecindad <= (len(Vecindad)-1):\n",
        "            iteraciones += 1 # Empezamos una iteración cada vez que vamos a hacer una exploración en una\n",
        "                             # vecindad.\n",
        "            \n",
        "            vecinos = Vecindad[numVecindad] # El listado de vecinos queda determinado por la vecindad en \n",
        "                                            # que vamos.\n",
        "            \n",
        "            # Dada la mejor solución hasta ahora, calculamos el primer vecino en mejorar y lo guardamos como \n",
        "            # mejor vecino.\n",
        "            mejorVecino = primVecinoMejorar(mejorSolucion, vecinos) \n",
        "            \n",
        "            # Si logramos mejorar:\n",
        "            if evaluar(mejorVecino) < evaluar(mejorSolucion):\n",
        "                mejorSolucion = mejorVecino # El vecino que mejoró es ahora la mejor solución.\n",
        "                numVecindad = 0 # Seguimos la búsqueda en la vecindad más pequeña.\n",
        "                itersSinMejorar = 0 # Reiniciamos el contador de las iteraciones sin mejora.\n",
        "\n",
        "            # Si no logramos mejorar:\n",
        "            else:    \n",
        "                itersSinMejorar += 1 # Tuvimos una iteración sin mejorar.\n",
        "                numVecindad += 1 # Seguimos la búsqueda en una vecindad más grande.\n",
        "\n",
        "        # Ya no pudimos mejorar con las vecindades dadas por `mejorSolucion`, la vamos a perturbar con la\n",
        "        # esperanza de poder salir del óptimo local:\n",
        "        s = perturbacion_estocastica(mejorSolucion)\n",
        "        perturbaciones += 1\n",
        "        itersSinMejorar += 1 # Puede que esto lo tengamos que hacer varias veces (perturbar) y las veces que\n",
        "                             # lo hagamos, lo contaremos como una iteración sin mejorar.\n",
        "        \n",
        "        # Si logramos salir del óptimo local por medio de la perturbación:\n",
        "        if evaluar(s) < evaluar(mejorSolucion):\n",
        "            mejorSolucion = s # Ahora guardamos a la solución perturbada como `mejorSolucion`\n",
        "            numVecindad = 0 # Aunque aún no calculamos la vecindad de la nueva `mejorSolucion`, reiniciamos el\n",
        "                            # contador para poder así volver a generar vecindades y explorarlas para encontrar\n",
        "                            # mejores soluciones.\n",
        "    mejorValor = evaluar(mejorSolucion) # Obtenemos el mejor valor que está dado por la mejor solución\n",
        "    return mejorSolucion, mejorValor\n",
        "        \n",
        "        "
      ]
    },
    {
      "cell_type": "code",
      "execution_count": 36,
      "metadata": {},
      "outputs": [
        {
          "data": {
            "text/plain": [
              "'ejemplar = \\'pr152.tsp\\'\\nsolucionInicial = generar_sol_aleatoria(ejemplar)\\ncostoInicial = evaluar(solucionInicial)\\nprint(costoInicial)\\n\\nmejorSolucion, mejorValor = busqueda_por_vecindades(solucionInicial, \"CambioConsecutivo\")\\nprint(len(mejorSolucion), mejorValor)'"
            ]
          },
          "execution_count": 36,
          "metadata": {},
          "output_type": "execute_result"
        }
      ],
      "source": [
        "'''Vamos a hacer un ejemplo de uso para el ejemplar 'pr152.tsp' '''\n",
        "'''ejemplar = 'pr152.tsp'\n",
        "solucionInicial = generar_sol_aleatoria(ejemplar)\n",
        "costoInicial = evaluar(solucionInicial)\n",
        "print(costoInicial)\n",
        "\n",
        "mejorSolucion, mejorValor = busqueda_por_vecindades(solucionInicial, \"CambioConsecutivo\")\n",
        "print(len(mejorSolucion), mejorValor)'''\n"
      ]
    },
    {
      "cell_type": "code",
      "execution_count": 37,
      "metadata": {},
      "outputs": [
        {
          "data": {
            "text/plain": [
              "'\\'ejemplar = \\'pr152.tsp\\'\\nsolucionInicial = generar_sol_aleatoria(ejemplar)\\n#costoInicial = evaluar(solucionInicial)\\nprint(costoInicial)\\n\\nmejorSolucion, mejorValor = busqueda_por_vecindades(solucionInicial, \"InvParticion\")\\nprint(len(mejorSolucion), mejorValor)'"
            ]
          },
          "execution_count": 37,
          "metadata": {},
          "output_type": "execute_result"
        }
      ],
      "source": [
        "'''Vamos a hacer un ejemplo de uso para el ejemplar 'pr152.tsp' '''\n",
        "''''ejemplar = 'pr152.tsp'\n",
        "solucionInicial = generar_sol_aleatoria(ejemplar)\n",
        "#costoInicial = evaluar(solucionInicial)\n",
        "print(costoInicial)\n",
        "\n",
        "mejorSolucion, mejorValor = busqueda_por_vecindades(solucionInicial, \"InvParticion\")\n",
        "print(len(mejorSolucion), mejorValor)'''\n"
      ]
    },
    {
      "cell_type": "code",
      "execution_count": 38,
      "metadata": {},
      "outputs": [
        {
          "data": {
            "text/plain": [
              "'ejemplar = \\'pr152.tsp\\'\\nsolucionInicial = generar_sol_aleatoria(ejemplar)\\ncostoInicial = evaluar(solucionInicial)\\nprint(costoInicial)\\n\\nmejorSolucion, mejorValor = busqueda_por_vecindades(solucionInicial, \"NoConsecutivo\")\\nprint(len(mejorSolucion), mejorValor)'"
            ]
          },
          "execution_count": 38,
          "metadata": {},
          "output_type": "execute_result"
        }
      ],
      "source": [
        "'''Vamos a hacer un ejemplo de uso para el ejemplar 'pr152.tsp' '''\n",
        "'''ejemplar = 'pr152.tsp'\n",
        "solucionInicial = generar_sol_aleatoria(ejemplar)\n",
        "costoInicial = evaluar(solucionInicial)\n",
        "print(costoInicial)\n",
        "\n",
        "mejorSolucion, mejorValor = busqueda_por_vecindades(solucionInicial, \"NoConsecutivo\")\n",
        "print(len(mejorSolucion), mejorValor)'''\n"
      ]
    },
    {
      "cell_type": "code",
      "execution_count": 39,
      "metadata": {},
      "outputs": [
        {
          "data": {
            "text/plain": [
              "'ejemplar = \\'pr76.tsp\\'\\nsolucionInicial = generar_sol_aleatoria(ejemplar)\\n#costoInicial = evaluar(solucionInicial)\\n#print(costoInicial)\\n\\nmejorSolucion, mejorValor = busqueda_por_vecindades(solucionInicial, \"InvParticion\")\\nprint(len(mejorSolucion), mejorValor)'"
            ]
          },
          "execution_count": 39,
          "metadata": {},
          "output_type": "execute_result"
        }
      ],
      "source": [
        "'''Vamos a hacer un ejemplo de uso para el ejemplar 'pr76.tsp' '''\n",
        "'''ejemplar = 'pr76.tsp'\n",
        "solucionInicial = generar_sol_aleatoria(ejemplar)\n",
        "#costoInicial = evaluar(solucionInicial)\n",
        "#print(costoInicial)\n",
        "\n",
        "mejorSolucion, mejorValor = busqueda_por_vecindades(solucionInicial, \"InvParticion\")\n",
        "print(len(mejorSolucion), mejorValor)'''\n"
      ]
    },
    {
      "cell_type": "code",
      "execution_count": 65,
      "metadata": {},
      "outputs": [
        {
          "name": "stdout",
          "output_type": "stream",
          "text": [
            "561436\n",
            "76 549037\n"
          ]
        }
      ],
      "source": [
        "'''Vamos a hacer un ejemplo de uso para el ejemplar 'pr76.tsp' '''\n",
        "ejemplar = 'pr76.tsp'\n",
        "solucionInicial = generar_sol_aleatoria(ejemplar)\n",
        "costoInicial = evaluar(solucionInicial)\n",
        "print(costoInicial)\n",
        "\n",
        "mejorSolucion, mejorValor = busqueda_por_vecindades(solucionInicial, \"InvParticion\")\n",
        "print(len(mejorSolucion), mejorValor)\n"
      ]
    },
    {
      "cell_type": "code",
      "execution_count": 84,
      "metadata": {},
      "outputs": [
        {
          "name": "stdout",
          "output_type": "stream",
          "text": [
            "---------------------------------------------------------------------------------------------------\n",
            "Nombre del ejemplar      Dimensión       Mejor valor          Valor promedio       Peor valor          \n",
            "---------------------------------------------------------------------------------------------------\n",
            "berlin52.tsp             52              27452                29076.5              30651               \n",
            "---------------------------------------------------------------------------------------------------\n"
          ]
        }
      ],
      "source": [
        "# Vamos a usar las vecindades dadas por el operador `InvParticion` porque para ejemplares muy grandes\n",
        "# ('pr152.tsp') es el que menos tarda en realizar una ejecución.\n",
        "tipoVecindad = \"InvParticion\"\n",
        "\n",
        "ejemplares = ['berlin52.tsp', 'ch130.tsp', 'eil51.tsp', 'pr152.tsp', 'pr76.tsp'] \n",
        "ejecuciones = 10\n",
        "dimensiones = {'berlin52.tsp': 52, 'ch130.tsp': 130, 'eil51.tsp': 51, 'pr152.tsp': 152, 'pr76.tsp': 76}\n",
        "\n",
        "#Para que la tabla se vea linda, le agregamos líneas horizontales que dividen los renglones:\n",
        "# Función para imprimir una línea horizontal\n",
        "def imprimir_linea(ancho):\n",
        "    print('-' * ancho)\n",
        "\n",
        "ancho_total = 24 + 15 + 20 + 20 + 20  # Ancho total de la tabla\n",
        "\n",
        "\n",
        "# Ejecutar 25 veces búsqueda aleatoria para cada combinación de dimensión e iteración:\n",
        "imprimir_linea(ancho_total)\n",
        "print(f\"{'Nombre del ejemplar':<24} {'Dimensión':<15} {'Mejor valor':<20} {'Valor promedio':<20} {'Peor valor':<20}\")\n",
        "imprimir_linea(ancho_total)\n",
        "# Hasta la línea anterior, sólo es el encabezado de la tabla.\n",
        "\n",
        "for ejemplar in ejemplares:\n",
        "    dimension = dimensiones[ejemplar]\n",
        "    lista = [] # Vamos a definir una lista donde guardar el mejor valor de cada ejecución\n",
        "    for i in range(0, ejecuciones): # Para cada ejemplar hacemos 10 ejecuciones.\n",
        "        solucionInicial = generar_sol_aleatoria(ejemplar)\n",
        "        mejorSolucion, mejorValor = busqueda_por_vecindades(solucionInicial, \"InvParticion\")\n",
        "        lista.append(mejorValor)\n",
        "    valorPromedio = sum(lista)/len(lista)\n",
        "    mejorDeLosMejores = min(lista)\n",
        "    peorDeLosMejores = max(lista)\n",
        "\n",
        "    print(f\"{ejemplar:<24} {dimension:<15} {mejorDeLosMejores:<20} {valorPromedio:<20} {peorDeLosMejores:<20}\")\n",
        "    imprimir_linea(ancho_total)\n"
      ]
    },
    {
      "cell_type": "markdown",
      "metadata": {},
      "source": [
        "HASTA AQUÍ "
      ]
    }
  ],
  "metadata": {
    "colab": {
      "provenance": []
    },
    "kernelspec": {
      "display_name": "Python 3",
      "name": "python3"
    },
    "language_info": {
      "codemirror_mode": {
        "name": "ipython",
        "version": 3
      },
      "file_extension": ".py",
      "mimetype": "text/x-python",
      "name": "python",
      "nbconvert_exporter": "python",
      "pygments_lexer": "ipython3",
      "version": "3.12.5"
    }
  },
  "nbformat": 4,
  "nbformat_minor": 0
}

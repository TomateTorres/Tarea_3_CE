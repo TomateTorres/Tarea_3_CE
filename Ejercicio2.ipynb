{
 "cells": [
  {
   "cell_type": "markdown",
   "metadata": {},
   "source": [
    "# Ejercicio 2"
   ]
  },
  {
   "cell_type": "code",
   "execution_count": 4,
   "metadata": {},
   "outputs": [],
   "source": [
    "'''Primero implementamos el operador de cambio de dos elementos \n",
    "   consecutivos para permutaciones.'''\n",
    "\n",
    "def operadorCambioConsecutivo(permutacion, indice):\n",
    "    '''Debe recibir una permutación y sólo necesita de un índice porque\n",
    "       los elementos a intercambiar son consecutivos (queremos el índice\n",
    "       del primer elemento).'''\n",
    "    \n",
    "    '''Aquí es importante poner `nuevaPermutacion = permutacion[:]` en \n",
    "       vez de `nuevaPermutacion = permutacion`. Porque en la segunda ambos\n",
    "       nombres apuntan a la misma lista en la memoria y si hacemos la \n",
    "       primera, `nuevaPermutacion` es una nueva lista independiente de la\n",
    "       permutación original, así que podemos modificarla sin cambiar a la\n",
    "       permutación original.'''\n",
    "    nuevaPermutacion = permutacion[:]\n",
    "\n",
    "    # Si dimos un índice menor o igual al que corresponde al penúltimo\n",
    "    # elemento de la permutación...\n",
    "    if indice < len(permutacion) - 1:\n",
    "        nuevaPermutacion[indice], nuevaPermutacion[indice + 1] = nuevaPermutacion[indice + 1], nuevaPermutacion[indice]\n",
    "    # hacemos la permutación consecutiva (porque se puede)\n",
    "\n",
    "    return nuevaPermutacion # En caso de haber dado un índice no válido\n",
    "                            # (por ejemplo, el correspondiente al último\n",
    "                            # elemento de la lista), se retorna una copia\n",
    "                            # de la permutación original.\n"
   ]
  },
  {
   "cell_type": "code",
   "execution_count": 5,
   "metadata": {},
   "outputs": [],
   "source": [
    "'''Ahora implementamos el operador de intercambio de dos elementos\n",
    "   no consecutivos.'''\n",
    "\n",
    "def OperadorNoConsecutivo(permutacion, indice1, indice2):\n",
    "    '''Recibe una permutación y los dos índices que vamos a intercambiar'''\n",
    "\n",
    "    # Lo mismo que en el anterior, queremos una copia independiente.\n",
    "    nuevaPermutacion = permutacion[:]\n",
    "\n",
    "    # Para que se de el intercambio:\n",
    "        # Los índices deben ser distintos.\n",
    "        # Ambos tienen que corresponder a elementos que sí estén en la permutación.\n",
    "    if (indice1 != indice2) and (indice1 < len(permutacion)) and (indice2 < len(permutacion)):\n",
    "        nuevaPermutacion[indice1], nuevaPermutacion[indice2] = nuevaPermutacion[indice2], nuevaPermutacion[indice1]\n",
    "    \n",
    "    return nuevaPermutacion # En caso de haber dado algún índice no válido o\n",
    "                            # que ambos índices sean iguales, se retorna una copia \n",
    "                            # la permutación original.\n"
   ]
  },
  {
   "cell_type": "code",
   "execution_count": 16,
   "metadata": {},
   "outputs": [],
   "source": [
    "'''La siguiente es una implementación de un operador que parte a la\n",
    "   lista en dos y las intercambia. Es parecido al de interccambio de\n",
    "   dos elementos, sólo que ahora trabajamos con grupos completos.'''\n",
    "\n",
    "def OperadorInvParticion(permutacion, indice):\n",
    "    '''Recibe la permutación y el índice donde vamos a hacer el corte.'''\n",
    "\n",
    "    # Lo mismo que en los anteriores, queremos una copia independiente.\n",
    "    nuevaPermutacion = permutacion[:]\n",
    "    \n",
    "    # Si dimos un índice que corresponde a un elemento distinto al \n",
    "    # primero y el último (de otro modo, no tiene sentido hacer 'el\n",
    "    # corte').\n",
    "    if 0 < indice < len(permutacion)-1:\n",
    "        nuevaPermutacion = nuevaPermutacion[indice:] + nuevaPermutacion[:indice + 1]\n",
    "\n",
    "    return nuevaPermutacion # En caso de haber dado algún índice no válido o\n",
    "                            # que éste corresponda al primer o último elemento\n",
    "                            # se retorna la permutación original.\n"
   ]
  },
  {
   "cell_type": "markdown",
   "metadata": {},
   "source": [
    "Veamos unos ejemplos de uso:"
   ]
  },
  {
   "cell_type": "code",
   "execution_count": 21,
   "metadata": {},
   "outputs": [
    {
     "name": "stdout",
     "output_type": "stream",
     "text": [
      "La permutación original es [1, 2, 3, 4, 5, 6, 7, 8, 9, 10]\n",
      "Algunas permutaciones obtenidas de hacer el intercambio de elementos consecutivos son:\n",
      "[1, 2, 3, 5, 4, 6, 7, 8, 9, 10], [1, 2, 3, 4, 5, 6, 7, 8, 10, 9] y [1, 2, 3, 4, 5, 6, 7, 8, 9, 10]\n",
      "\n",
      "Algunas permutaciones obtenidas de hacer el intercambio de dos elementos no necesariamente consecutivos son:\n",
      "[1, 2, 6, 4, 5, 3, 7, 8, 9, 10], [1, 2, 3, 4, 5, 10, 7, 8, 9, 6] y [1, 2, 3, 4, 5, 6, 7, 8, 9, 10]\n",
      "\n",
      "Algunas permutaciones obtenidas de usar el operador de inversión de partición son:\n",
      "[6, 7, 8, 9, 10, 1, 2, 3, 4, 5, 6], [9, 10, 1, 2, 3, 4, 5, 6, 7, 8, 9] y [1, 2, 3, 4, 5, 6, 7, 8, 9, 10]\n"
     ]
    }
   ],
   "source": [
    "permutacion = [1, 2, 3, 4, 5, 6, 7, 8, 9, 10]\n",
    "\n",
    "print(f\"La permutación original es {permutacion}\")\n",
    "#print(len(permutacion))\n",
    "\n",
    "# Intercambio de consecutivos:\n",
    "permConsecutiva1 = operadorCambioConsecutivo(permutacion, 3)\n",
    "permConsecutiva2 = operadorCambioConsecutivo(permutacion, 8)\n",
    "permConsecutiva3 = operadorCambioConsecutivo(permutacion, 11) \n",
    "# El último nos devolverá la permutación original\n",
    "\n",
    "print(f\"Algunas permutaciones obtenidas de hacer el intercambio de elementos consecutivos son:\\n\"\n",
    "      f\"{permConsecutiva1}, {permConsecutiva2} y {permConsecutiva3}\")\n",
    "\n",
    "# Intercambio de no-consecutivos:\n",
    "permNoConsecutiva1 = OperadorNoConsecutivo(permutacion, 2, 5)\n",
    "permNoConsecutiva2 = OperadorNoConsecutivo(permutacion, 5, 9)\n",
    "permNoConsecutiva3 = OperadorNoConsecutivo(permutacion, 1, 10)\n",
    "# El último nos devolverá la permutación original\n",
    "\n",
    "print(f\"\\nAlgunas permutaciones obtenidas de hacer el intercambio de dos elementos no necesariamente consecutivos son:\\n\"\n",
    "      f\"{permNoConsecutiva1}, {permNoConsecutiva2} y {permNoConsecutiva3}\")\n",
    "\n",
    "# Inversión de partición:\n",
    "permInv1 = OperadorInvParticion(permutacion, 5)\n",
    "permInv2 = OperadorInvParticion(permutacion, 8)\n",
    "permInv3 = OperadorInvParticion(permutacion, 9)\n",
    "# El último nos devolverá la permutación original\n",
    "\n",
    "print(f\"\\nAlgunas permutaciones obtenidas de usar el operador de inversión de partición son:\\n\"\n",
    "      f\"{permInv1}, {permInv2} y {permInv3}\")\n"
   ]
  }
 ],
 "metadata": {
  "kernelspec": {
   "display_name": "Python 3",
   "language": "python",
   "name": "python3"
  },
  "language_info": {
   "codemirror_mode": {
    "name": "ipython",
    "version": 3
   },
   "file_extension": ".py",
   "mimetype": "text/x-python",
   "name": "python",
   "nbconvert_exporter": "python",
   "pygments_lexer": "ipython3",
   "version": "3.12.5"
  }
 },
 "nbformat": 4,
 "nbformat_minor": 2
}

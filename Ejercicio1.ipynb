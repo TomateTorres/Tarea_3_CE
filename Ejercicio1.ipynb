{
  "nbformat": 4,
  "nbformat_minor": 0,
  "metadata": {
    "colab": {
      "provenance": []
    },
    "kernelspec": {
      "name": "python3",
      "display_name": "Python 3"
    },
    "language_info": {
      "name": "python"
    }
  },
  "cells": [
    {
      "cell_type": "code",
      "execution_count": 6,
      "metadata": {
        "id": "d04f9pguxRr4"
      },
      "outputs": [],
      "source": [
        "import time\n",
        "import random\n",
        "import numpy as np\n",
        "import pandas as pd\n",
        "\n"
      ]
    },
    {
      "cell_type": "markdown",
      "source": [
        "## Ejercicio 1"
      ],
      "metadata": {
        "id": "qmm35yyZamVP"
      }
    },
    {
      "cell_type": "markdown",
      "source": [
        "### Carga de ejemplares"
      ],
      "metadata": {
        "id": "H_7_wOHqZrwM"
      }
    },
    {
      "cell_type": "code",
      "source": [
        "# Los ejemplares se subieron a un repositorio de Github por lo que para descargarlos y poder usarlos se tiene que ejecutar la siguiente celda:\n",
        "!wget https://raw.githubusercontent.com/FridaVargas/tsp/main/pr152.tsp\n",
        "!wget https://raw.githubusercontent.com/FridaVargas/tsp/main/eil51.tsp\n",
        "!wget https://raw.githubusercontent.com/FridaVargas/tsp/main/ch130.tsp\n",
        "!wget https://raw.githubusercontent.com/FridaVargas/tsp/main/berlin52.tsp"
      ],
      "metadata": {
        "colab": {
          "base_uri": "https://localhost:8080/"
        },
        "id": "thKTUFmzyYtg",
        "outputId": "c277668b-c695-4474-d546-45df385276c4"
      },
      "execution_count": 3,
      "outputs": [
        {
          "output_type": "stream",
          "name": "stdout",
          "text": [
            "--2024-09-19 13:23:47--  https://raw.githubusercontent.com/FridaVargas/tsp/main/pr152.tsp\n",
            "Resolving raw.githubusercontent.com (raw.githubusercontent.com)... 185.199.111.133, 185.199.110.133, 185.199.109.133, ...\n",
            "Connecting to raw.githubusercontent.com (raw.githubusercontent.com)|185.199.111.133|:443... connected.\n",
            "HTTP request sent, awaiting response... 200 OK\n",
            "Length: 2206 (2.2K) [text/plain]\n",
            "Saving to: ‘pr152.tsp’\n",
            "\n",
            "pr152.tsp           100%[===================>]   2.15K  --.-KB/s    in 0s      \n",
            "\n",
            "2024-09-19 13:23:47 (26.2 MB/s) - ‘pr152.tsp’ saved [2206/2206]\n",
            "\n",
            "--2024-09-19 13:23:47--  https://raw.githubusercontent.com/FridaVargas/tsp/main/eil51.tsp\n",
            "Resolving raw.githubusercontent.com (raw.githubusercontent.com)... 185.199.108.133, 185.199.109.133, 185.199.111.133, ...\n",
            "Connecting to raw.githubusercontent.com (raw.githubusercontent.com)|185.199.108.133|:443... connected.\n",
            "HTTP request sent, awaiting response... 200 OK\n",
            "Length: 579 [text/plain]\n",
            "Saving to: ‘eil51.tsp’\n",
            "\n",
            "eil51.tsp           100%[===================>]     579  --.-KB/s    in 0s      \n",
            "\n",
            "2024-09-19 13:23:47 (26.4 MB/s) - ‘eil51.tsp’ saved [579/579]\n",
            "\n",
            "--2024-09-19 13:23:47--  https://raw.githubusercontent.com/FridaVargas/tsp/main/ch130.tsp\n",
            "Resolving raw.githubusercontent.com (raw.githubusercontent.com)... 185.199.108.133, 185.199.109.133, 185.199.110.133, ...\n",
            "Connecting to raw.githubusercontent.com (raw.githubusercontent.com)|185.199.108.133|:443... connected.\n",
            "HTTP request sent, awaiting response... 200 OK\n",
            "Length: 4386 (4.3K) [text/plain]\n",
            "Saving to: ‘ch130.tsp’\n",
            "\n",
            "ch130.tsp           100%[===================>]   4.28K  --.-KB/s    in 0s      \n",
            "\n",
            "2024-09-19 13:23:48 (43.5 MB/s) - ‘ch130.tsp’ saved [4386/4386]\n",
            "\n",
            "--2024-09-19 13:23:48--  https://raw.githubusercontent.com/FridaVargas/tsp/main/berlin52.tsp\n",
            "Resolving raw.githubusercontent.com (raw.githubusercontent.com)... 185.199.111.133, 185.199.110.133, 185.199.109.133, ...\n",
            "Connecting to raw.githubusercontent.com (raw.githubusercontent.com)|185.199.111.133|:443... connected.\n",
            "HTTP request sent, awaiting response... 200 OK\n",
            "Length: 916 [text/plain]\n",
            "Saving to: ‘berlin52.tsp’\n",
            "\n",
            "berlin52.tsp        100%[===================>]     916  --.-KB/s    in 0s      \n",
            "\n",
            "2024-09-19 13:23:48 (40.6 MB/s) - ‘berlin52.tsp’ saved [916/916]\n",
            "\n"
          ]
        }
      ]
    },
    {
      "cell_type": "markdown",
      "source": [
        "### Implementa un algoritmo que lea un archivo de ejemplares para el TSP."
      ],
      "metadata": {
        "id": "ProrE_CxZjL5"
      }
    },
    {
      "cell_type": "code",
      "source": [
        "def lectura_TSP(ejemplar, imprimir = False):\n",
        "  \"\"\"\n",
        "  Función que recibe de parámetro un ejemplar de TSP con el formato especificado en TSPLIB y de parámetro opcional si quieres imprimir en pantalla el nombre\n",
        "  y la dimension del ejemplar, por default no se imprime.\n",
        "  Devuelve un diccionario con sus atributos y una tabla\n",
        "  con los nodos(ciudades) y las coordenadas de dónde están. Además imprime en pantalla el nombre y la dimensión del ejemplar.\n",
        "  \"\"\"\n",
        "  archivo = open(ejemplar,\"r\")\n",
        "  contenido = archivo.readlines()\n",
        "  datos = {} # Aquí se van a guardar los atributos del ejemplar\n",
        "  linea = 0 # Nos dice cuántas líneas son de especificaciones\n",
        "  while ':' in contenido[linea]: # Se busca el caracter especial \":\" para separar la palara clave del valor\n",
        "    atributo = contenido[linea].replace('\\n', \"\")\n",
        "    llave, valor = atributo.split(':',1) # Se guarda en el diccionario\n",
        "    llave = llave.replace(\" \", \"\")\n",
        "    datos[llave] = valor\n",
        "    linea += 1\n",
        "  datos['lectura'] = linea\n",
        "  dimension = int(datos['DIMENSION'])\n",
        "  ciudades = contenido[linea+1:]\n",
        "  # Para ver la cantidad de coordenadas nos fijamos en el primer set de datos que es el nodo cor1, cor2..\n",
        "  n = len(ciudades[0].split(\" \")) # hay n-1 coordenadas\n",
        "  listas = [[] for i in range(n)]# Creamos una lista de listas para ir almacenando las coordenadas y nodos para despues pasarlo a un DataFrame\n",
        "  for i in range(0, dimension):\n",
        "    ciudad = ciudades[i].replace('\\n', \"\")\n",
        "    partes = ciudad.split(\" \")\n",
        "    for j in range(0, n):\n",
        "      listas[j].append(float(partes[j]))\n",
        "  columnas = [\"no. ciudad\"] + [\"coordenada\" + str(i) for i in range(1,n)]\n",
        "  # Creamos un dataframe\n",
        "  coordenadas= pd.DataFrame(np.transpose(listas), columns= columnas, index = [i for i in range(1, dimension+1)])\n",
        "  # Se imprimen en pantalla las caracteristicas del ejemplar si imprimir = True\n",
        "  if imprimir == True:\n",
        "    print(\"El nombre del ejemplar es: \", datos['NAME'], \"\\n\")\n",
        "    print(\"La dimensión del ejemplar es: \", datos['DIMENSION'], \"\\n\")\n",
        "    # Si se desean más especificaciones hay que descomentar las siguientes dos lineas paa que se impriman\n",
        "    #print(\"Otras especificaciones: \\n\")\n",
        "    #print(datos)\n",
        "  return datos, coordenadas\n",
        "\n",
        "\n"
      ],
      "metadata": {
        "id": "MSrCD03JyvqA"
      },
      "execution_count": 4,
      "outputs": []
    },
    {
      "cell_type": "markdown",
      "source": [
        "Probamos en los 4 ejemplares la implementación:"
      ],
      "metadata": {
        "id": "sqHPaJCvd78S"
      }
    },
    {
      "cell_type": "code",
      "source": [
        "lectura_TSP(\"berlin52.tsp\", True)\n",
        "print(\"------------------------------\\n\")\n",
        "lectura_TSP(\"ch130.tsp\", True)\n",
        "print(\"------------------------------\\n\")\n",
        "lectura_TSP(\"eil51.tsp\", True)\n",
        "print(\"------------------------------\\n\")\n",
        "lectura_TSP(\"pr152.tsp\", True)\n",
        "print(\"------------------------------\\n\")"
      ],
      "metadata": {
        "colab": {
          "base_uri": "https://localhost:8080/"
        },
        "id": "U0lxB3dfeC9Y",
        "outputId": "81e3f085-e939-443b-a915-84a8455cb002"
      },
      "execution_count": 7,
      "outputs": [
        {
          "output_type": "stream",
          "name": "stdout",
          "text": [
            "El nombre del ejemplar es:   berlin52 \n",
            "\n",
            "La dimensión del ejemplar es:   52 \n",
            "\n",
            "------------------------------\n",
            "\n",
            "El nombre del ejemplar es:   ch130 \n",
            "\n",
            "La dimensión del ejemplar es:   130 \n",
            "\n",
            "------------------------------\n",
            "\n",
            "El nombre del ejemplar es:   eil51 \n",
            "\n",
            "La dimensión del ejemplar es:   51 \n",
            "\n",
            "------------------------------\n",
            "\n",
            "El nombre del ejemplar es:   pr152 \n",
            "\n",
            "La dimensión del ejemplar es:   152 \n",
            "\n",
            "------------------------------\n",
            "\n"
          ]
        }
      ]
    },
    {
      "cell_type": "markdown",
      "source": [
        "### Ahora realizamos la matriz de distancias\n",
        "Empleando el hecho que $d(i,j) = d(j,i)$ reducimos la complejidad computacional del problema. Pues $d(1,j) = d(j,1)$ y así nos queda una matriz de $(n-1) \\cdot (n-1)$ luego, $d(2,j) = d(i,2)$ y así sucesivamente. Concluyéndose así que sólo es necesario un ciclo _for_."
      ],
      "metadata": {
        "id": "Hf3DVjLLg0Lr"
      }
    },
    {
      "cell_type": "code",
      "source": [
        "def matriz_distancias(ejemplar):\n",
        "  \"\"\"\n",
        "  Función que recibe de parámetro un ejemplar de TSP con el formato especificado en TSPLIB y devuelve su matriz de distancias asociada\n",
        "  \"\"\"\n",
        "  datos, coordenadas = lectura_TSP(ejemplar)\n",
        "  n = int(datos['DIMENSION'])\n",
        "  matriz = np.zeros((n,n))\n",
        "  # Calcula distancias entre cada par de nodos\n",
        "  for i in range(n):  # Itera sobre cada nodo\n",
        "      for j in range(i + 1, n):  # Solo itera sobre la mitad trangular superior derecha\n",
        "          distancia = np.sqrt((coordenadas['coordenada1'].iloc[i] - coordenadas['coordenada1'].iloc[j])**2 +\n",
        "                              (coordenadas['coordenada2'].iloc[i] - coordenadas['coordenada2'].iloc[j])**2)\n",
        "          matriz[i][j] = distancia  # Almacena la distancia en la matriz\n",
        "          matriz[j][i] = distancia  # La distancia es la misma de j a i\n",
        "\n",
        "  return matriz\n"
      ],
      "metadata": {
        "id": "v-cdEG58jV0n"
      },
      "execution_count": 8,
      "outputs": []
    },
    {
      "cell_type": "markdown",
      "source": [
        "### Implementa un algoritmo para generar soluciones aleatorias para el TSP, utilizando algún esquema de codificación basado en permutaciones"
      ],
      "metadata": {
        "id": "nwDVuIKEuKZE"
      }
    },
    {
      "cell_type": "code",
      "source": [
        "# Usamos la funcion permutation de numpy, dejando fijo 1 y permutando de 2 a n\n",
        "# Convertimos a lista después para un problema en particular, por lo que la llamaremos dentro de la función\n",
        "\n",
        "def generar_sol_aleatoria(ejemplar, semilla =int(time.time())):\n",
        "  \"\"\"\n",
        "  Función que a partir del archivo del ejemplar y una semilla, genera una solucion (permutacion) aleatoria al ejemplar\n",
        "  \"\"\"\n",
        "  np.random.seed(semilla)\n",
        "  datos, coordenadas = lectura_TSP(ejemplar)\n",
        "  dimension = int(datos['DIMENSION'])\n",
        "  solucion = list([1] + list(np.random.permutation(list(range(2, dimension + 1)))))\n",
        "  return solucion # Como lista\n"
      ],
      "metadata": {
        "id": "Sx8nU1eMuR4n"
      },
      "execution_count": 9,
      "outputs": []
    },
    {
      "cell_type": "code",
      "source": [
        "# Ejemplo de uso\n",
        "#generar_sol_aleatoria('pr152.tsp')"
      ],
      "metadata": {
        "id": "P86o0ntrx25B"
      },
      "execution_count": null,
      "outputs": []
    },
    {
      "cell_type": "markdown",
      "source": [
        "### Implementa un algoritmo para evaluar una solución (permutación)"
      ],
      "metadata": {
        "id": "w9K56mCFvqux"
      }
    },
    {
      "cell_type": "code",
      "source": [
        "def evaluar_sol(ejemplar, solucion):\n",
        "  \"\"\"\n",
        "  Dado un ejemplar y una solución, encuentra el costo de esa solucion a través de la matriz de distancias\n",
        "  \"\"\"\n",
        "  matriz = matriz_distancias(ejemplar) # llamamos matriz de distancias\n",
        "  # inicializamos la distancia total\n",
        "  total = 0\n",
        "  for i in range(len(solucion)-1):\n",
        "    a = int(solucion[i])-1 #Hacemos que el index comience en cero\n",
        "    b = int(solucion[i+1])-1 # Primero los pasamos a enteros para que los reconozca adecuadamente en la matriz\n",
        "    total += int(matriz[a][b])\n",
        "  # Falta calcular la distancia del fin de la lista a 1\n",
        "  c = int(solucion[-1])-1\n",
        "  total += int(matriz[c][1])\n",
        "\n",
        "  return total"
      ],
      "metadata": {
        "id": "sWoECQ72v8r-"
      },
      "execution_count": 10,
      "outputs": []
    },
    {
      "cell_type": "code",
      "source": [
        "# Lo probamos para un ejemplar cualquiera de los dados:\n",
        "solucion = generar_sol_aleatoria('ch130.tsp')\n",
        "costo = evaluar_sol('ch130.tsp', solucion)\n",
        "print(\"El costo de la solucion es\", costo)\n"
      ],
      "metadata": {
        "id": "9ehpvQ7j0TxM",
        "outputId": "0d843a30-7b94-4b05-87d3-0836fffcc46f",
        "colab": {
          "base_uri": "https://localhost:8080/"
        }
      },
      "execution_count": 11,
      "outputs": [
        {
          "output_type": "stream",
          "name": "stdout",
          "text": [
            "El costo de la solucion es 45958\n"
          ]
        }
      ]
    },
    {
      "cell_type": "markdown",
      "source": [
        "### Programa 1\n",
        "Programa que reciba como parámetros (en la misma línea de ejecución):\n",
        "\n",
        " * Nombre del archivo con los datos del ejemplar\n",
        " * Semilla del generador de aleatorio\n",
        " * Nombre del archivo con los datos de la solución generada\n",
        "\n",
        "Como salida, deberá imprimir algunos datos generales del ejemplar leído. Por ejemplo:\n",
        "\n",
        "  * Nombre del ejemplar (archivo)\n",
        "  * Tamaño del ejemplar (número de ciudades)\n",
        "  * Arista de mayor peso (o distancia más grande)\n",
        "  * Ejemplo de solución (solo los primeras y los últimas 3 elementos de la permutación)\n",
        "  * En caso de que se haya indicado, se deberá escribir en un archivo de texto la solución generada (completa)\n"
      ],
      "metadata": {
        "id": "INdAPrma5zs3"
      }
    },
    {
      "cell_type": "code",
      "source": [
        "def arista_mayor(ejemplar):\n",
        "  \"\"\"\n",
        "  Recibe el archivo con el ejemplar y devuelve el peso de la arista con mayor peso y entre cuáles ciudades se encuentra\n",
        "  \"\"\"\n",
        "  matriz = matriz_distancias(ejemplar)\n",
        "  n = len(matriz)\n",
        "  # Inicializamos variables para ahi guardar el no. de columna y no. de fila del maayor valor entre ciudades\n",
        "  i_mayor = -1\n",
        "  j_mayor = -1\n",
        "  valor_mayor = -1\n",
        "\n",
        "  for i in range(n):\n",
        "    for j in range(n):\n",
        "      if float(matriz[i][j]) > valor_mayor:\n",
        "        i_mayor = i\n",
        "        j_mayor = j\n",
        "        valor_mayor = float(matriz[i][j])\n",
        "  return i_mayor+1, j_mayor+1, valor_mayor # Sumamos 1 para que el index de las ciudades comience en 1 como en los originales\n",
        "\n",
        "\n",
        "def lectura_ejemplar(ejemplar, semilla=int(time.time()), nombre_archivo=str(time.time())):\n",
        "  \"\"\"\n",
        "  Parámetros y salida especificados al inicio de la sección\n",
        "  \"\"\"\n",
        "  datos, coordenadas = lectura_TSP(ejemplar, True) # True para imprimir nombre y dimension\n",
        "  i_mayor, j_mayor, valor_mayor = arista_mayor(ejemplar)\n",
        "  # Imprimir arista de mayor valor y entre cuales ciudades está\n",
        "  print(\"La arista de mayor peso se encuentra entre las ciudades \", i_mayor, \"y \", j_mayor, \"con un peso de \", valor_mayor,\"\\n\")\n",
        "  # Ejemplo de sol e imprimimos sus primeros y últimos 3 valores\n",
        "  solucion = generar_sol_aleatoria(ejemplar, semilla)\n",
        "  print(\"Una solución al ejemplar es:\", solucion[0], solucion[1], solucion[2], \",...,\", solucion[-3], solucion[-2], solucion[-1])\n",
        "\n",
        "  archivo = nombre_archivo + \".txt\"\n",
        "  # Guardamos los datos de nombre, dimension como lo especifica TSPLIB y la solucion en el archivo\n",
        "  contenido = (\n",
        "    f\"NAME : {datos['NAME']}\\n\"\n",
        "    f\"DIMENSION: {datos['DIMENSION']}\\n\"\n",
        "    f\"Una solución al ejemplar es \\n\"\n",
        "  )\n",
        "  contenido += ',\\n '.join(str(i) for i in solucion)\n",
        "\n",
        "  with open(nombre_archivo, 'w') as archivo:\n",
        "    archivo.write(contenido)\n",
        "\n",
        "  print('La solucion se guardó en el archivo ', f'{nombre_archivo}.txt')\n"
      ],
      "metadata": {
        "id": "B9kAspmP6ewO"
      },
      "execution_count": 12,
      "outputs": []
    },
    {
      "cell_type": "code",
      "source": [
        "# Lo probamos con ejemplar cualquiera de los dados\n",
        "lectura_ejemplar('eil51.tsp', 123, 'archivo_sol')"
      ],
      "metadata": {
        "id": "7QbAgwhhDnQf",
        "outputId": "ded1f9e0-868a-4409-d693-6679e08ef811",
        "colab": {
          "base_uri": "https://localhost:8080/"
        }
      },
      "execution_count": 13,
      "outputs": [
        {
          "output_type": "stream",
          "name": "stdout",
          "text": [
            "El nombre del ejemplar es:   eil51 \n",
            "\n",
            "La dimensión del ejemplar es:   51 \n",
            "\n",
            "La arista de mayor peso se encuentra entre las ciudades  36 y  40 con un peso de  85.63293758829018 \n",
            "\n",
            "Una solución al ejemplar es: 1 12 15 ,..., 30 4 47\n",
            "La solucion se guardó en el archivo  archivo_sol.txt\n"
          ]
        }
      ]
    },
    {
      "cell_type": "markdown",
      "source": [
        "## Programa 2\n",
        "Programa reciba como parámetros (en la misma línea de ejecución) :\n",
        "\n",
        "* Nombre del archivo con los datos del ejemplar\n",
        "* Nombre del archivo con los datos de la solución a evaluar\n",
        "\n",
        "Como salida, deberá imprimir algunos datos generales del ejemplar leído. Por ejemplo:\n",
        "\n",
        "* Nombre del ejemplar (archivo)\n",
        "* Tamaño del ejemplar (número de ciudades)\n",
        "* Costo de la solución\n"
      ],
      "metadata": {
        "id": "C8LGmCzLGOIi"
      }
    },
    {
      "cell_type": "code",
      "source": [
        "def leer_sol(archivo_sol, imprimir = False):\n",
        "  # Abrimos y leemos el archivo, guardando los datos como en la funcion leer_archivo\n",
        "  with open(archivo_sol, 'r') as f:\n",
        "    contenido = f.readlines()\n",
        "  datos = {} # Aquí se van a guardar los atributos del ejemplar\n",
        "  linea = 0 # Nos dice cuántas líneas son de especificaciones\n",
        "  solucion = []\n",
        "  while ':' in contenido[linea]: # Se busca el caracter especial \":\" para separar la palara clave del valor\n",
        "    atributo = contenido[linea].replace('\\n', \"\")\n",
        "    llave, valor = atributo.split(':',1) # Se guarda en el diccionario\n",
        "    llave = llave.replace(\" \", \"\")\n",
        "    datos[llave] = valor\n",
        "    linea += 1\n",
        "  datos['lectura'] = linea\n",
        "  dimension = int(datos['DIMENSION'])\n",
        "  ciudades = contenido[linea+1:]\n",
        "  # Nos deshacemos de salto de linea con strip( ) y de la coma con rstrip()\n",
        "  solucion = [int(ciudad.strip().rstrip(',')) for ciudad in ciudades]\n",
        "  if imprimir == True:\n",
        "    print(\"Ejemplar: \", datos['NAME'], \"\\n\")\n",
        "    print(\"Dimension: \", datos['DIMENSION'], \"\\n\")\n",
        "    print(\"Solucion en archivo: \", solucion[0], solucion[1], solucion[2], \",...,\", solucion[-3], solucion[-2], solucion[-1])\n",
        "  return solucion\n",
        "\n",
        "\n",
        "def lectura_solucion(ejemplar, archivo_sol):\n",
        "  datos, coordenadas = lectura_TSP(ejemplar, True) # True para imprimir nombre y dimension\n",
        "  solucion = leer_sol(archivo_sol)\n",
        "  costo = evaluar_sol('ch130.tsp', solucion)\n",
        "  print(\"El costo de la solucion es\", costo)\n",
        "\n",
        "\n"
      ],
      "metadata": {
        "id": "LZ__tMTAGdc4"
      },
      "execution_count": 14,
      "outputs": []
    },
    {
      "cell_type": "code",
      "source": [
        "lectura_solucion('ch130.tsp', 'archivo_sol')"
      ],
      "metadata": {
        "id": "7caJAKJ5Mufy",
        "outputId": "c975822f-7ffa-4239-e097-1b703284deba",
        "colab": {
          "base_uri": "https://localhost:8080/"
        }
      },
      "execution_count": 15,
      "outputs": [
        {
          "output_type": "stream",
          "name": "stdout",
          "text": [
            "El nombre del ejemplar es:   ch130 \n",
            "\n",
            "La dimensión del ejemplar es:   130 \n",
            "\n",
            "El costo de la solucion es 15271\n"
          ]
        }
      ]
    }
  ]
}